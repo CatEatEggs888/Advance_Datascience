{
 "cells": [
  {
   "cell_type": "markdown",
   "metadata": {
    "id": "L2kAb9GpglHj"
   },
   "source": [
    "#Unit3: Classification Problem\n",
    "\n",
    "---\n",
    "\n",
    "### Unit Objective\n",
    "\n",
    "The primary goal of this unit is to introduce students to the fundamentals of classification problems in machine learning, with a focus on image recognition. This one-week unit will culminate in a project using a dataset from Kaggle, encouraging students to engage deeply with the material and publish their work. By the end of this unit, students should be able to:\n",
    "\n",
    "1. **Install Library (2 weeks)**:\n",
    "   - Learn how to install and manage necessary Python libraries for handling image data and building classification models, such as TensorFlow, Keras, or PyTorch.\n",
    "\n",
    "2. **Load Data from the Digits Dataset from sklearn**:\n",
    "   - Use scikit-learn to load and understand the digits dataset, a collection of handwritten digits that serves as a starting point for classification algorithms.\n",
    "\n",
    "3. **Visualizations**:\n",
    "   - Develop skills in visualizing image data and the results of classification models to better understand model performance and data characteristics.\n",
    "\n",
    "4. **Build Binary Classifier**:\n",
    "   - Construct and train a binary classifier to differentiate between two classes using the digits dataset, focusing on the application of logistic regression or support vector machines.\n",
    "\n",
    "5. **Recall, Precision, F1 Score**:\n",
    "   - Receive a lecture on key performance metrics for classification models, including recall, precision, and the F1 score.\n",
    "   - Understand the trade-offs between these metrics and their importance in evaluating the effectiveness of a classifier.\n",
    "\n",
    "6. **Plotting the Precision and Recall Curve**:\n",
    "   - Learn how to plot precision-recall curves as a method of evaluating model performance over a range of thresholds, providing insights into the balance between recall and precision.\n",
    "\n",
    "7. **Multiple Class Classifier**:\n",
    "   - Extend the binary classification approach to multiple classes, implementing and evaluating models capable of distinguishing between more than two categories.\n",
    "\n",
    "### Project Component:\n",
    "\n",
    "- **Kaggle Dataset Project**: Engage in a hands-on project using a relevant dataset from Kaggle, focused on image classification. This project aims to solidify understanding through practical application and encourages publishing the results to foster a culture of research and sharing within the community.\n",
    "\n",
    "### Research Topics Creation:\n",
    "\n",
    "- Develop six research topics for further exploration:\n",
    "  - **Three Classification Topics**: Each using a different model such as Convolutional Neural Networks (CNNs), Decision Trees, or Random Forests.\n",
    "  - **Three Regression Topics**: Focus on different regression models like Linear Regression, Ridge Regression, or Support Vector Regression.\n",
    "  - **Three Theoretical Topics**: Discuss and analyze the covariate shift problem in machine learning, understanding its impact on model training and prediction accuracy.\n",
    "\n",
    "### Expected Outcomes\n",
    "\n",
    "Students will gain a comprehensive understanding of classification problems, especially in the context of image data. They will learn to implement and evaluate models using both binary and multi-class classification approaches, backed by a strong foundation in understanding model evaluation metrics. The project and research topics will encourage practical engagement, critical thinking, and contributions to the broader academic and professional community."
   ]
  },
  {
   "cell_type": "markdown",
   "metadata": {
    "id": "iAjgJzvKgAas"
   },
   "source": [
    "#Section 3.1: Load the Data from the Digits Dataset from sklearn"
   ]
  },
  {
   "cell_type": "code",
   "execution_count": 1,
   "metadata": {
    "executionInfo": {
     "elapsed": 2958,
     "status": "ok",
     "timestamp": 1721117261658,
     "user": {
      "displayName": "Kunjira Kingphai",
      "userId": "10851108113379732662"
     },
     "user_tz": -420
    },
    "id": "_154V9fsgAas"
   },
   "outputs": [],
   "source": [
    "# Import the 'datasets' module from the scikit-learn library\n",
    "from sklearn import datasets\n",
    "\n",
    "# Load the 'digits' dataset from sklearn, which is a dataset of handwritten digits\n",
    "digits = datasets.load_digits()"
   ]
  },
  {
   "cell_type": "code",
   "execution_count": 3,
   "metadata": {
    "colab": {
     "base_uri": "https://localhost:8080/"
    },
    "executionInfo": {
     "elapsed": 13,
     "status": "ok",
     "timestamp": 1721117322949,
     "user": {
      "displayName": "Kunjira Kingphai",
      "userId": "10851108113379732662"
     },
     "user_tz": -420
    },
    "id": "zz7vcr2tlfTv",
    "outputId": "b92f6b2b-4bde-4c45-b790-0c42aa8fb2a0"
   },
   "outputs": [
    {
     "data": {
      "text/plain": [
       "{'data': array([[ 0.,  0.,  5., ...,  0.,  0.,  0.],\n",
       "        [ 0.,  0.,  0., ..., 10.,  0.,  0.],\n",
       "        [ 0.,  0.,  0., ..., 16.,  9.,  0.],\n",
       "        ...,\n",
       "        [ 0.,  0.,  1., ...,  6.,  0.,  0.],\n",
       "        [ 0.,  0.,  2., ..., 12.,  0.,  0.],\n",
       "        [ 0.,  0., 10., ..., 12.,  1.,  0.]]),\n",
       " 'target': array([0, 1, 2, ..., 8, 9, 8]),\n",
       " 'frame': None,\n",
       " 'feature_names': ['pixel_0_0',\n",
       "  'pixel_0_1',\n",
       "  'pixel_0_2',\n",
       "  'pixel_0_3',\n",
       "  'pixel_0_4',\n",
       "  'pixel_0_5',\n",
       "  'pixel_0_6',\n",
       "  'pixel_0_7',\n",
       "  'pixel_1_0',\n",
       "  'pixel_1_1',\n",
       "  'pixel_1_2',\n",
       "  'pixel_1_3',\n",
       "  'pixel_1_4',\n",
       "  'pixel_1_5',\n",
       "  'pixel_1_6',\n",
       "  'pixel_1_7',\n",
       "  'pixel_2_0',\n",
       "  'pixel_2_1',\n",
       "  'pixel_2_2',\n",
       "  'pixel_2_3',\n",
       "  'pixel_2_4',\n",
       "  'pixel_2_5',\n",
       "  'pixel_2_6',\n",
       "  'pixel_2_7',\n",
       "  'pixel_3_0',\n",
       "  'pixel_3_1',\n",
       "  'pixel_3_2',\n",
       "  'pixel_3_3',\n",
       "  'pixel_3_4',\n",
       "  'pixel_3_5',\n",
       "  'pixel_3_6',\n",
       "  'pixel_3_7',\n",
       "  'pixel_4_0',\n",
       "  'pixel_4_1',\n",
       "  'pixel_4_2',\n",
       "  'pixel_4_3',\n",
       "  'pixel_4_4',\n",
       "  'pixel_4_5',\n",
       "  'pixel_4_6',\n",
       "  'pixel_4_7',\n",
       "  'pixel_5_0',\n",
       "  'pixel_5_1',\n",
       "  'pixel_5_2',\n",
       "  'pixel_5_3',\n",
       "  'pixel_5_4',\n",
       "  'pixel_5_5',\n",
       "  'pixel_5_6',\n",
       "  'pixel_5_7',\n",
       "  'pixel_6_0',\n",
       "  'pixel_6_1',\n",
       "  'pixel_6_2',\n",
       "  'pixel_6_3',\n",
       "  'pixel_6_4',\n",
       "  'pixel_6_5',\n",
       "  'pixel_6_6',\n",
       "  'pixel_6_7',\n",
       "  'pixel_7_0',\n",
       "  'pixel_7_1',\n",
       "  'pixel_7_2',\n",
       "  'pixel_7_3',\n",
       "  'pixel_7_4',\n",
       "  'pixel_7_5',\n",
       "  'pixel_7_6',\n",
       "  'pixel_7_7'],\n",
       " 'target_names': array([0, 1, 2, 3, 4, 5, 6, 7, 8, 9]),\n",
       " 'images': array([[[ 0.,  0.,  5., ...,  1.,  0.,  0.],\n",
       "         [ 0.,  0., 13., ..., 15.,  5.,  0.],\n",
       "         [ 0.,  3., 15., ..., 11.,  8.,  0.],\n",
       "         ...,\n",
       "         [ 0.,  4., 11., ..., 12.,  7.,  0.],\n",
       "         [ 0.,  2., 14., ..., 12.,  0.,  0.],\n",
       "         [ 0.,  0.,  6., ...,  0.,  0.,  0.]],\n",
       " \n",
       "        [[ 0.,  0.,  0., ...,  5.,  0.,  0.],\n",
       "         [ 0.,  0.,  0., ...,  9.,  0.,  0.],\n",
       "         [ 0.,  0.,  3., ...,  6.,  0.,  0.],\n",
       "         ...,\n",
       "         [ 0.,  0.,  1., ...,  6.,  0.,  0.],\n",
       "         [ 0.,  0.,  1., ...,  6.,  0.,  0.],\n",
       "         [ 0.,  0.,  0., ..., 10.,  0.,  0.]],\n",
       " \n",
       "        [[ 0.,  0.,  0., ..., 12.,  0.,  0.],\n",
       "         [ 0.,  0.,  3., ..., 14.,  0.,  0.],\n",
       "         [ 0.,  0.,  8., ..., 16.,  0.,  0.],\n",
       "         ...,\n",
       "         [ 0.,  9., 16., ...,  0.,  0.,  0.],\n",
       "         [ 0.,  3., 13., ..., 11.,  5.,  0.],\n",
       "         [ 0.,  0.,  0., ..., 16.,  9.,  0.]],\n",
       " \n",
       "        ...,\n",
       " \n",
       "        [[ 0.,  0.,  1., ...,  1.,  0.,  0.],\n",
       "         [ 0.,  0., 13., ...,  2.,  1.,  0.],\n",
       "         [ 0.,  0., 16., ..., 16.,  5.,  0.],\n",
       "         ...,\n",
       "         [ 0.,  0., 16., ..., 15.,  0.,  0.],\n",
       "         [ 0.,  0., 15., ..., 16.,  0.,  0.],\n",
       "         [ 0.,  0.,  2., ...,  6.,  0.,  0.]],\n",
       " \n",
       "        [[ 0.,  0.,  2., ...,  0.,  0.,  0.],\n",
       "         [ 0.,  0., 14., ..., 15.,  1.,  0.],\n",
       "         [ 0.,  4., 16., ..., 16.,  7.,  0.],\n",
       "         ...,\n",
       "         [ 0.,  0.,  0., ..., 16.,  2.,  0.],\n",
       "         [ 0.,  0.,  4., ..., 16.,  2.,  0.],\n",
       "         [ 0.,  0.,  5., ..., 12.,  0.,  0.]],\n",
       " \n",
       "        [[ 0.,  0., 10., ...,  1.,  0.,  0.],\n",
       "         [ 0.,  2., 16., ...,  1.,  0.,  0.],\n",
       "         [ 0.,  0., 15., ..., 15.,  0.,  0.],\n",
       "         ...,\n",
       "         [ 0.,  4., 16., ..., 16.,  6.,  0.],\n",
       "         [ 0.,  8., 16., ..., 16.,  8.,  0.],\n",
       "         [ 0.,  1.,  8., ..., 12.,  1.,  0.]]]),\n",
       " 'DESCR': \".. _digits_dataset:\\n\\nOptical recognition of handwritten digits dataset\\n--------------------------------------------------\\n\\n**Data Set Characteristics:**\\n\\n:Number of Instances: 1797\\n:Number of Attributes: 64\\n:Attribute Information: 8x8 image of integer pixels in the range 0..16.\\n:Missing Attribute Values: None\\n:Creator: E. Alpaydin (alpaydin '@' boun.edu.tr)\\n:Date: July; 1998\\n\\nThis is a copy of the test set of the UCI ML hand-written digits datasets\\nhttps://archive.ics.uci.edu/ml/datasets/Optical+Recognition+of+Handwritten+Digits\\n\\nThe data set contains images of hand-written digits: 10 classes where\\neach class refers to a digit.\\n\\nPreprocessing programs made available by NIST were used to extract\\nnormalized bitmaps of handwritten digits from a preprinted form. From a\\ntotal of 43 people, 30 contributed to the training set and different 13\\nto the test set. 32x32 bitmaps are divided into nonoverlapping blocks of\\n4x4 and the number of on pixels are counted in each block. This generates\\nan input matrix of 8x8 where each element is an integer in the range\\n0..16. This reduces dimensionality and gives invariance to small\\ndistortions.\\n\\nFor info on NIST preprocessing routines, see M. D. Garris, J. L. Blue, G.\\nT. Candela, D. L. Dimmick, J. Geist, P. J. Grother, S. A. Janet, and C.\\nL. Wilson, NIST Form-Based Handprint Recognition System, NISTIR 5469,\\n1994.\\n\\n.. dropdown:: References\\n\\n  - C. Kaynak (1995) Methods of Combining Multiple Classifiers and Their\\n    Applications to Handwritten Digit Recognition, MSc Thesis, Institute of\\n    Graduate Studies in Science and Engineering, Bogazici University.\\n  - E. Alpaydin, C. Kaynak (1998) Cascading Classifiers, Kybernetika.\\n  - Ken Tang and Ponnuthurai N. Suganthan and Xi Yao and A. Kai Qin.\\n    Linear dimensionalityreduction using relevance weighted LDA. School of\\n    Electrical and Electronic Engineering Nanyang Technological University.\\n    2005.\\n  - Claudio Gentile. A New Approximate Maximal Margin Classification\\n    Algorithm. NIPS. 2000.\\n\"}"
      ]
     },
     "execution_count": 3,
     "metadata": {},
     "output_type": "execute_result"
    }
   ],
   "source": [
    "digits"
   ]
  },
  {
   "cell_type": "code",
   "execution_count": 6,
   "metadata": {
    "executionInfo": {
     "elapsed": 699,
     "status": "ok",
     "timestamp": 1721117628844,
     "user": {
      "displayName": "Kunjira Kingphai",
      "userId": "10851108113379732662"
     },
     "user_tz": -420
    },
    "id": "YDM_X2gflauO"
   },
   "outputs": [],
   "source": [
    "# 'digX' will contain the feature set: each element is a flattened array representing an image of a digit\n",
    "digX = digits['data']\n"
   ]
  },
  {
   "cell_type": "code",
   "execution_count": 7,
   "metadata": {
    "executionInfo": {
     "elapsed": 8,
     "status": "ok",
     "timestamp": 1721117631144,
     "user": {
      "displayName": "Kunjira Kingphai",
      "userId": "10851108113379732662"
     },
     "user_tz": -420
    },
    "id": "2GOtOo4flcMi"
   },
   "outputs": [],
   "source": [
    "\n",
    "# 'digy' will contain the target labels corresponding to the digits in the images\n",
    "digy = digits['target']"
   ]
  },
  {
   "cell_type": "markdown",
   "metadata": {
    "id": "Icz0fwL-gAas"
   },
   "source": [
    "## Data Visualisations"
   ]
  },
  {
   "cell_type": "code",
   "execution_count": 29,
   "metadata": {
    "colab": {
     "base_uri": "https://localhost:8080/",
     "height": 447
    },
    "executionInfo": {
     "elapsed": 1292,
     "status": "ok",
     "timestamp": 1721117845963,
     "user": {
      "displayName": "Kunjira Kingphai",
      "userId": "10851108113379732662"
     },
     "user_tz": -420
    },
    "id": "EJCwCFL_gAat",
    "outputId": "b96c4b38-392f-47da-f3ec-814aad35a980"
   },
   "outputs": [
    {
     "name": "stdout",
     "output_type": "stream",
     "text": [
      "(64,)\n"
     ]
    },
    {
     "data": {
      "image/png": "[encoded data removed]",
      "text/plain": [
       "<Figure size 640x480 with 1 Axes>"
      ]
     },
     "metadata": {},
     "output_type": "display_data"
    },
    {
     "name": "stdout",
     "output_type": "stream",
     "text": [
      "[[ 0.  0. 10. 11.  4.  0.  0.  0.]\n",
      " [ 0.  0. 10. 15. 13. 13.  1.  0.]\n",
      " [ 0.  0.  8. 11.  0. 14.  4.  0.]\n",
      " [ 0.  0.  0. 13. 15. 13.  0.  0.]\n",
      " [ 0.  1. 11. 16. 16.  0.  0.  0.]\n",
      " [ 0.  1. 15.  3.  9. 10.  0.  0.]\n",
      " [ 0.  0. 14.  6. 15. 10.  0.  0.]\n",
      " [ 0.  0.  8. 14.  7.  1.  0.  0.]]\n"
     ]
    }
   ],
   "source": [
    "# This line is used to display matplotlib plots inline within the Jupyter notebook directly below the code cell.\n",
    "#คือ คำสั่งที่ใช้ใน Jupyter Notebook เพื่อให้แสดงกราฟได้ทันทีหลังจากรันโค้ด\n",
    "%matplotlib inline \n",
    "\n",
    "# Import the matplotlib library, which is useful for plotting and visualizations in Python.\n",
    "import matplotlib as mpl\n",
    "import matplotlib.pyplot as plt\n",
    "\n",
    "# Selecting a single digit from the dataset. 'some_digit' is an array of pixel intensities representing the digit at index 23.\n",
    "some_digit = digX[28]\n",
    "\n",
    "# Printing the shape of the array to understand its dimensions. For the digits dataset, it will be (64,), since the images are 8x8 and flattened.\n",
    "print(some_digit.shape) # ใช้ดูขนาดของอาเรย์ที่เก็บข้อมูลของตัวเลข\n",
    "\n",
    "# Reshaping the flat array into a 2D array (8x8) to visualize it as an image. Each pixel's grayscale intensity is represented by a value in this matrix.\n",
    "some_digit_image = some_digit.reshape(8, 8)\n",
    "\n",
    "# Displaying the image using matplotlib's imshow function, setting the colormap to 'binary' for a black and white image.\n",
    "plt.imshow(some_digit_image, cmap=mpl.cm.binary)\n",
    "\n",
    "# Hiding the axes to focus on the image display.\n",
    "plt.axis(\"on\")\n",
    "\n",
    "# Display the plot which shows the image.\n",
    "plt.show()\n",
    "\n",
    "\n",
    "print(some_digit_image) #คือการแสดงผลของอาเรย์ที่เก็บข้อมูลของตัวเลขในรูปแบบ 2D (8x8) เพื่อให้เห็นภาพของตัวเลขที่แทนด้วยพิกเซล"
   ]
  },
  {
   "cell_type": "code",
   "execution_count": 16,
   "metadata": {
    "colab": {
     "base_uri": "https://localhost:8080/",
     "height": 454
    },
    "executionInfo": {
     "elapsed": 545,
     "status": "ok",
     "timestamp": 1721117901284,
     "user": {
      "displayName": "Kunjira Kingphai",
      "userId": "10851108113379732662"
     },
     "user_tz": -420
    },
    "id": "2rAYnR-agAat",
    "outputId": "147097bd-9012-4423-f08c-12f4c6031aa8"
   },
   "outputs": [
    {
     "data": {
      "text/plain": [
       "<Figure size 640x480 with 0 Axes>"
      ]
     },
     "metadata": {},
     "output_type": "display_data"
    },
    {
     "data": {
      "image/png": "[encoded data removed]",
      "text/plain": [
       "<Figure size 480x480 with 1 Axes>"
      ]
     },
     "metadata": {},
     "output_type": "display_data"
    }
   ],
   "source": [
    "# Import matplotlib's pyplot module for plotting\n",
    "import matplotlib.pyplot as plt\n",
    "\n",
    "# Set the color map to 'gray' for the subsequent plots. This will display the image in grayscale.\n",
    "plt.gray() #คือการตั้งค่าสีของกราฟให้เป็นโทนสีเทา\n",
    "\n",
    "# Display the matrix as an image. 'digits.images[23]' directly accesses the 2D array of the 23rd image in the dataset.\n",
    "# 'matshow' is used here for displaying the matrix as a heatmap/image.\n",
    "\n",
    "plt.matshow(digits.images[23]) # คือการแสดงภาพของตัวเลขที่มีดัชนี 23 ในชุดข้อมูล 'digits' โดยใช้ฟังก์ชัน 'matshow' เพื่อแสดงเป็นภาพ 2D\n",
    "\n",
    "# Show the plot. The 'matshow' function generates an image from a 2D numpy array, and 'plt.show()' displays it.\n",
    "plt.show()"
   ]
  },
  {
   "cell_type": "markdown",
   "metadata": {
    "id": "hfrxpFEOgAau"
   },
   "source": [
    "#Section 3.2: Binary Classification"
   ]
  },
  {
   "cell_type": "code",
   "execution_count": null,
   "metadata": {
    "id": "jGSL-IaEgAav"
   },
   "outputs": [],
   "source": [
    "# Splitting the feature matrix 'digX' into two parts: the first 1400 for training and the rest for testing.\n",
    "# Similarly, splitting the target vector 'digy' into corresponding training and testing parts.\n",
    "digX_train, digX_test, digy_train, digy_test = digX[:1400], digX[1400:], digy[:1400], digy[1400:] #คือการแบ่งข้อมูลออกเป็นชุดฝึก (train) และชุดทดสอบ (test) โดยใช้ 1400 ตัวอย่างแรกสำหรับการฝึกและที่เหลือสำหรับการทดสอบ"
   ]
  },
  {
   "cell_type": "markdown",
   "metadata": {
    "id": "kIyJpcszgAav"
   },
   "source": [
    "##### Getting only the training and testing data for digit 8 since we are builting a binary classigier we want our model to learn only for digit 8. The digit could be any digit from 0-9."
   ]
  },
  {
   "cell_type": "code",
   "execution_count": null,
   "metadata": {
    "id": "mwT2Br80gAav"
   },
   "outputs": [],
   "source": [
    "# Creating binary target arrays for the training and testing datasets.\n",
    "# 'y_train_8' and 'y_test_8' are boolean arrays where the position is True if the corresponding digit is '8' and False otherwise.\n",
    "# This binary classification setup is crucial for focusing the model training on recognizing whether a digit is '8' or not.\n",
    "\n",
    "# Creating binary target arrays for the training and testing datasets.\n",
    "y_train_8 = (digy_train == 8) #คือการสร้างอาเรย์เป้าหมายแบบไบนารีสำหรับชุดฝึก โดยจะเป็น True ถ้าตัวเลขเป็น 8 และ False ถ้าไม่ใช่\n",
    "y_test_8 = (digy_test == 8) #คือการสร้างอาเรย์เป้าหมายแบบไบนารีสำหรับชุดทดสอบ โดยจะเป็น True ถ้าตัวเลขเป็น 8 และ False ถ้าไม่ใช่"
   ]
  },
  {
   "cell_type": "code",
   "execution_count": null,
   "metadata": {
    "colab": {
     "base_uri": "https://localhost:8080/",
     "height": 234
    },
    "executionInfo": {
     "elapsed": 628,
     "status": "ok",
     "timestamp": 1715060613036,
     "user": {
      "displayName": "Kunjira Kingphai",
      "userId": "10851108113379732662"
     },
     "user_tz": -60
    },
    "id": "FKpVoI9DgAav",
    "outputId": "42a96aa3-3554-48ab-e8a4-8f8540d3370d"
   },
   "outputs": [
    {
     "name": "stderr",
     "output_type": "stream",
     "text": [
      "C:\\Users\\praph\\AppData\\Local\\Packages\\PythonSoftwareFoundation.Python.3.11_qbz5n2kfra8p0\\LocalCache\\local-packages\\Python311\\site-packages\\sklearn\\linear_model\\_logistic.py:470: ConvergenceWarning: lbfgs failed to converge after 100 iteration(s) (status=1):\n",
      "STOP: TOTAL NO. OF ITERATIONS REACHED LIMIT\n",
      "\n",
      "Increase the number of iterations to improve the convergence (max_iter=100).\n",
      "You might also want to scale the data as shown in:\n",
      "    https://scikit-learn.org/stable/modules/preprocessing.html\n",
      "Please also refer to the documentation for alternative solver options:\n",
      "    https://scikit-learn.org/stable/modules/linear_model.html#logistic-regression\n",
      "  n_iter_i = _check_optimize_result(\n"
     ]
    },
    {
     "data": {
      "text/html": [
       "<style>#sk-container-id-1 {\n",
       "  /* Definition of color scheme common for light and dark mode */\n",
       "  --sklearn-color-text: #000;\n",
       "  --sklearn-color-text-muted: #666;\n",
       "  --sklearn-color-line: gray;\n",
       "  /* Definition of color scheme for unfitted estimators */\n",
       "  --sklearn-color-unfitted-level-0: #fff5e6;\n",
       "  --sklearn-color-unfitted-level-1: #f6e4d2;\n",
       "  --sklearn-color-unfitted-level-2: #ffe0b3;\n",
       "  --sklearn-color-unfitted-level-3: chocolate;\n",
       "  /* Definition of color scheme for fitted estimators */\n",
       "  --sklearn-color-fitted-level-0: #f0f8ff;\n",
       "  --sklearn-color-fitted-level-1: #d4ebff;\n",
       "  --sklearn-color-fitted-level-2: #b3dbfd;\n",
       "  --sklearn-color-fitted-level-3: cornflowerblue;\n",
       "\n",
       "  /* Specific color for light theme */\n",
       "  --sklearn-color-text-on-default-background: var(--sg-text-color, var(--theme-code-foreground, var(--jp-content-font-color1, black)));\n",
       "  --sklearn-color-background: var(--sg-background-color, var(--theme-background, var(--jp-layout-color0, white)));\n",
       "  --sklearn-color-border-box: var(--sg-text-color, var(--theme-code-foreground, var(--jp-content-font-color1, black)));\n",
       "  --sklearn-color-icon: #696969;\n",
       "\n",
       "  @media (prefers-color-scheme: dark) {\n",
       "    /* Redefinition of color scheme for dark theme */\n",
       "    --sklearn-color-text-on-default-background: var(--sg-text-color, var(--theme-code-foreground, var(--jp-content-font-color1, white)));\n",
       "    --sklearn-color-background: var(--sg-background-color, var(--theme-background, var(--jp-layout-color0, #111)));\n",
       "    --sklearn-color-border-box: var(--sg-text-color, var(--theme-code-foreground, var(--jp-content-font-color1, white)));\n",
       "    --sklearn-color-icon: #878787;\n",
       "  }\n",
       "}\n",
       "\n",
       "#sk-container-id-1 {\n",
       "  color: var(--sklearn-color-text);\n",
       "}\n",
       "\n",
       "#sk-container-id-1 pre {\n",
       "  padding: 0;\n",
       "}\n",
       "\n",
       "#sk-container-id-1 input.sk-hidden--visually {\n",
       "  border: 0;\n",
       "  clip: rect(1px 1px 1px 1px);\n",
       "  clip: rect(1px, 1px, 1px, 1px);\n",
       "  height: 1px;\n",
       "  margin: -1px;\n",
       "  overflow: hidden;\n",
       "  padding: 0;\n",
       "  position: absolute;\n",
       "  width: 1px;\n",
       "}\n",
       "\n",
       "#sk-container-id-1 div.sk-dashed-wrapped {\n",
       "  border: 1px dashed var(--sklearn-color-line);\n",
       "  margin: 0 0.4em 0.5em 0.4em;\n",
       "  box-sizing: border-box;\n",
       "  padding-bottom: 0.4em;\n",
       "  background-color: var(--sklearn-color-background);\n",
       "}\n",
       "\n",
       "#sk-container-id-1 div.sk-container {\n",
       "  /* jupyter's `normalize.less` sets `[hidden] { display: none; }`\n",
       "     but bootstrap.min.css set `[hidden] { display: none !important; }`\n",
       "     so we also need the `!important` here to be able to override the\n",
       "     default hidden behavior on the sphinx rendered scikit-learn.org.\n",
       "     See: https://github.com/scikit-learn/scikit-learn/issues/21755 */\n",
       "  display: inline-block !important;\n",
       "  position: relative;\n",
       "}\n",
       "\n",
       "#sk-container-id-1 div.sk-text-repr-fallback {\n",
       "  display: none;\n",
       "}\n",
       "\n",
       "div.sk-parallel-item,\n",
       "div.sk-serial,\n",
       "div.sk-item {\n",
       "  /* draw centered vertical line to link estimators */\n",
       "  background-image: linear-gradient(var(--sklearn-color-text-on-default-background), var(--sklearn-color-text-on-default-background));\n",
       "  background-size: 2px 100%;\n",
       "  background-repeat: no-repeat;\n",
       "  background-position: center center;\n",
       "}\n",
       "\n",
       "/* Parallel-specific style estimator block */\n",
       "\n",
       "#sk-container-id-1 div.sk-parallel-item::after {\n",
       "  content: \"\";\n",
       "  width: 100%;\n",
       "  border-bottom: 2px solid var(--sklearn-color-text-on-default-background);\n",
       "  flex-grow: 1;\n",
       "}\n",
       "\n",
       "#sk-container-id-1 div.sk-parallel {\n",
       "  display: flex;\n",
       "  align-items: stretch;\n",
       "  justify-content: center;\n",
       "  background-color: var(--sklearn-color-background);\n",
       "  position: relative;\n",
       "}\n",
       "\n",
       "#sk-container-id-1 div.sk-parallel-item {\n",
       "  display: flex;\n",
       "  flex-direction: column;\n",
       "}\n",
       "\n",
       "#sk-container-id-1 div.sk-parallel-item:first-child::after {\n",
       "  align-self: flex-end;\n",
       "  width: 50%;\n",
       "}\n",
       "\n",
       "#sk-container-id-1 div.sk-parallel-item:last-child::after {\n",
       "  align-self: flex-start;\n",
       "  width: 50%;\n",
       "}\n",
       "\n",
       "#sk-container-id-1 div.sk-parallel-item:only-child::after {\n",
       "  width: 0;\n",
       "}\n",
       "\n",
       "/* Serial-specific style estimator block */\n",
       "\n",
       "#sk-container-id-1 div.sk-serial {\n",
       "  display: flex;\n",
       "  flex-direction: column;\n",
       "  align-items: center;\n",
       "  background-color: var(--sklearn-color-background);\n",
       "  padding-right: 1em;\n",
       "  padding-left: 1em;\n",
       "}\n",
       "\n",
       "\n",
       "/* Toggleable style: style used for estimator/Pipeline/ColumnTransformer box that is\n",
       "clickable and can be expanded/collapsed.\n",
       "- Pipeline and ColumnTransformer use this feature and define the default style\n",
       "- Estimators will overwrite some part of the style using the `sk-estimator` class\n",
       "*/\n",
       "\n",
       "/* Pipeline and ColumnTransformer style (default) */\n",
       "\n",
       "#sk-container-id-1 div.sk-toggleable {\n",
       "  /* Default theme specific background. It is overwritten whether we have a\n",
       "  specific estimator or a Pipeline/ColumnTransformer */\n",
       "  background-color: var(--sklearn-color-background);\n",
       "}\n",
       "\n",
       "/* Toggleable label */\n",
       "#sk-container-id-1 label.sk-toggleable__label {\n",
       "  cursor: pointer;\n",
       "  display: flex;\n",
       "  width: 100%;\n",
       "  margin-bottom: 0;\n",
       "  padding: 0.5em;\n",
       "  box-sizing: border-box;\n",
       "  text-align: center;\n",
       "  align-items: start;\n",
       "  justify-content: space-between;\n",
       "  gap: 0.5em;\n",
       "}\n",
       "\n",
       "#sk-container-id-1 label.sk-toggleable__label .caption {\n",
       "  font-size: 0.6rem;\n",
       "  font-weight: lighter;\n",
       "  color: var(--sklearn-color-text-muted);\n",
       "}\n",
       "\n",
       "#sk-container-id-1 label.sk-toggleable__label-arrow:before {\n",
       "  /* Arrow on the left of the label */\n",
       "  content: \"▸\";\n",
       "  float: left;\n",
       "  margin-right: 0.25em;\n",
       "  color: var(--sklearn-color-icon);\n",
       "}\n",
       "\n",
       "#sk-container-id-1 label.sk-toggleable__label-arrow:hover:before {\n",
       "  color: var(--sklearn-color-text);\n",
       "}\n",
       "\n",
       "/* Toggleable content - dropdown */\n",
       "\n",
       "#sk-container-id-1 div.sk-toggleable__content {\n",
       "  display: none;\n",
       "  text-align: left;\n",
       "  /* unfitted */\n",
       "  background-color: var(--sklearn-color-unfitted-level-0);\n",
       "}\n",
       "\n",
       "#sk-container-id-1 div.sk-toggleable__content.fitted {\n",
       "  /* fitted */\n",
       "  background-color: var(--sklearn-color-fitted-level-0);\n",
       "}\n",
       "\n",
       "#sk-container-id-1 div.sk-toggleable__content pre {\n",
       "  margin: 0.2em;\n",
       "  border-radius: 0.25em;\n",
       "  color: var(--sklearn-color-text);\n",
       "  /* unfitted */\n",
       "  background-color: var(--sklearn-color-unfitted-level-0);\n",
       "}\n",
       "\n",
       "#sk-container-id-1 div.sk-toggleable__content.fitted pre {\n",
       "  /* unfitted */\n",
       "  background-color: var(--sklearn-color-fitted-level-0);\n",
       "}\n",
       "\n",
       "#sk-container-id-1 input.sk-toggleable__control:checked~div.sk-toggleable__content {\n",
       "  /* Expand drop-down */\n",
       "  display: block;\n",
       "  width: 100%;\n",
       "  overflow: visible;\n",
       "}\n",
       "\n",
       "#sk-container-id-1 input.sk-toggleable__control:checked~label.sk-toggleable__label-arrow:before {\n",
       "  content: \"▾\";\n",
       "}\n",
       "\n",
       "/* Pipeline/ColumnTransformer-specific style */\n",
       "\n",
       "#sk-container-id-1 div.sk-label input.sk-toggleable__control:checked~label.sk-toggleable__label {\n",
       "  color: var(--sklearn-color-text);\n",
       "  background-color: var(--sklearn-color-unfitted-level-2);\n",
       "}\n",
       "\n",
       "#sk-container-id-1 div.sk-label.fitted input.sk-toggleable__control:checked~label.sk-toggleable__label {\n",
       "  background-color: var(--sklearn-color-fitted-level-2);\n",
       "}\n",
       "\n",
       "/* Estimator-specific style */\n",
       "\n",
       "/* Colorize estimator box */\n",
       "#sk-container-id-1 div.sk-estimator input.sk-toggleable__control:checked~label.sk-toggleable__label {\n",
       "  /* unfitted */\n",
       "  background-color: var(--sklearn-color-unfitted-level-2);\n",
       "}\n",
       "\n",
       "#sk-container-id-1 div.sk-estimator.fitted input.sk-toggleable__control:checked~label.sk-toggleable__label {\n",
       "  /* fitted */\n",
       "  background-color: var(--sklearn-color-fitted-level-2);\n",
       "}\n",
       "\n",
       "#sk-container-id-1 div.sk-label label.sk-toggleable__label,\n",
       "#sk-container-id-1 div.sk-label label {\n",
       "  /* The background is the default theme color */\n",
       "  color: var(--sklearn-color-text-on-default-background);\n",
       "}\n",
       "\n",
       "/* On hover, darken the color of the background */\n",
       "#sk-container-id-1 div.sk-label:hover label.sk-toggleable__label {\n",
       "  color: var(--sklearn-color-text);\n",
       "  background-color: var(--sklearn-color-unfitted-level-2);\n",
       "}\n",
       "\n",
       "/* Label box, darken color on hover, fitted */\n",
       "#sk-container-id-1 div.sk-label.fitted:hover label.sk-toggleable__label.fitted {\n",
       "  color: var(--sklearn-color-text);\n",
       "  background-color: var(--sklearn-color-fitted-level-2);\n",
       "}\n",
       "\n",
       "/* Estimator label */\n",
       "\n",
       "#sk-container-id-1 div.sk-label label {\n",
       "  font-family: monospace;\n",
       "  font-weight: bold;\n",
       "  display: inline-block;\n",
       "  line-height: 1.2em;\n",
       "}\n",
       "\n",
       "#sk-container-id-1 div.sk-label-container {\n",
       "  text-align: center;\n",
       "}\n",
       "\n",
       "/* Estimator-specific */\n",
       "#sk-container-id-1 div.sk-estimator {\n",
       "  font-family: monospace;\n",
       "  border: 1px dotted var(--sklearn-color-border-box);\n",
       "  border-radius: 0.25em;\n",
       "  box-sizing: border-box;\n",
       "  margin-bottom: 0.5em;\n",
       "  /* unfitted */\n",
       "  background-color: var(--sklearn-color-unfitted-level-0);\n",
       "}\n",
       "\n",
       "#sk-container-id-1 div.sk-estimator.fitted {\n",
       "  /* fitted */\n",
       "  background-color: var(--sklearn-color-fitted-level-0);\n",
       "}\n",
       "\n",
       "/* on hover */\n",
       "#sk-container-id-1 div.sk-estimator:hover {\n",
       "  /* unfitted */\n",
       "  background-color: var(--sklearn-color-unfitted-level-2);\n",
       "}\n",
       "\n",
       "#sk-container-id-1 div.sk-estimator.fitted:hover {\n",
       "  /* fitted */\n",
       "  background-color: var(--sklearn-color-fitted-level-2);\n",
       "}\n",
       "\n",
       "/* Specification for estimator info (e.g. \"i\" and \"?\") */\n",
       "\n",
       "/* Common style for \"i\" and \"?\" */\n",
       "\n",
       ".sk-estimator-doc-link,\n",
       "a:link.sk-estimator-doc-link,\n",
       "a:visited.sk-estimator-doc-link {\n",
       "  float: right;\n",
       "  font-size: smaller;\n",
       "  line-height: 1em;\n",
       "  font-family: monospace;\n",
       "  background-color: var(--sklearn-color-background);\n",
       "  border-radius: 1em;\n",
       "  height: 1em;\n",
       "  width: 1em;\n",
       "  text-decoration: none !important;\n",
       "  margin-left: 0.5em;\n",
       "  text-align: center;\n",
       "  /* unfitted */\n",
       "  border: var(--sklearn-color-unfitted-level-1) 1pt solid;\n",
       "  color: var(--sklearn-color-unfitted-level-1);\n",
       "}\n",
       "\n",
       ".sk-estimator-doc-link.fitted,\n",
       "a:link.sk-estimator-doc-link.fitted,\n",
       "a:visited.sk-estimator-doc-link.fitted {\n",
       "  /* fitted */\n",
       "  border: var(--sklearn-color-fitted-level-1) 1pt solid;\n",
       "  color: var(--sklearn-color-fitted-level-1);\n",
       "}\n",
       "\n",
       "/* On hover */\n",
       "div.sk-estimator:hover .sk-estimator-doc-link:hover,\n",
       ".sk-estimator-doc-link:hover,\n",
       "div.sk-label-container:hover .sk-estimator-doc-link:hover,\n",
       ".sk-estimator-doc-link:hover {\n",
       "  /* unfitted */\n",
       "  background-color: var(--sklearn-color-unfitted-level-3);\n",
       "  color: var(--sklearn-color-background);\n",
       "  text-decoration: none;\n",
       "}\n",
       "\n",
       "div.sk-estimator.fitted:hover .sk-estimator-doc-link.fitted:hover,\n",
       ".sk-estimator-doc-link.fitted:hover,\n",
       "div.sk-label-container:hover .sk-estimator-doc-link.fitted:hover,\n",
       ".sk-estimator-doc-link.fitted:hover {\n",
       "  /* fitted */\n",
       "  background-color: var(--sklearn-color-fitted-level-3);\n",
       "  color: var(--sklearn-color-background);\n",
       "  text-decoration: none;\n",
       "}\n",
       "\n",
       "/* Span, style for the box shown on hovering the info icon */\n",
       ".sk-estimator-doc-link span {\n",
       "  display: none;\n",
       "  z-index: 9999;\n",
       "  position: relative;\n",
       "  font-weight: normal;\n",
       "  right: .2ex;\n",
       "  padding: .5ex;\n",
       "  margin: .5ex;\n",
       "  width: min-content;\n",
       "  min-width: 20ex;\n",
       "  max-width: 50ex;\n",
       "  color: var(--sklearn-color-text);\n",
       "  box-shadow: 2pt 2pt 4pt #999;\n",
       "  /* unfitted */\n",
       "  background: var(--sklearn-color-unfitted-level-0);\n",
       "  border: .5pt solid var(--sklearn-color-unfitted-level-3);\n",
       "}\n",
       "\n",
       ".sk-estimator-doc-link.fitted span {\n",
       "  /* fitted */\n",
       "  background: var(--sklearn-color-fitted-level-0);\n",
       "  border: var(--sklearn-color-fitted-level-3);\n",
       "}\n",
       "\n",
       ".sk-estimator-doc-link:hover span {\n",
       "  display: block;\n",
       "}\n",
       "\n",
       "/* \"?\"-specific style due to the `<a>` HTML tag */\n",
       "\n",
       "#sk-container-id-1 a.estimator_doc_link {\n",
       "  float: right;\n",
       "  font-size: 1rem;\n",
       "  line-height: 1em;\n",
       "  font-family: monospace;\n",
       "  background-color: var(--sklearn-color-background);\n",
       "  border-radius: 1rem;\n",
       "  height: 1rem;\n",
       "  width: 1rem;\n",
       "  text-decoration: none;\n",
       "  /* unfitted */\n",
       "  color: var(--sklearn-color-unfitted-level-1);\n",
       "  border: var(--sklearn-color-unfitted-level-1) 1pt solid;\n",
       "}\n",
       "\n",
       "#sk-container-id-1 a.estimator_doc_link.fitted {\n",
       "  /* fitted */\n",
       "  border: var(--sklearn-color-fitted-level-1) 1pt solid;\n",
       "  color: var(--sklearn-color-fitted-level-1);\n",
       "}\n",
       "\n",
       "/* On hover */\n",
       "#sk-container-id-1 a.estimator_doc_link:hover {\n",
       "  /* unfitted */\n",
       "  background-color: var(--sklearn-color-unfitted-level-3);\n",
       "  color: var(--sklearn-color-background);\n",
       "  text-decoration: none;\n",
       "}\n",
       "\n",
       "#sk-container-id-1 a.estimator_doc_link.fitted:hover {\n",
       "  /* fitted */\n",
       "  background-color: var(--sklearn-color-fitted-level-3);\n",
       "}\n",
       "\n",
       ".estimator-table summary {\n",
       "    padding: .5rem;\n",
       "    font-family: monospace;\n",
       "    cursor: pointer;\n",
       "}\n",
       "\n",
       ".estimator-table details[open] {\n",
       "    padding-left: 0.1rem;\n",
       "    padding-right: 0.1rem;\n",
       "    padding-bottom: 0.3rem;\n",
       "}\n",
       "\n",
       ".estimator-table .parameters-table {\n",
       "    margin-left: auto !important;\n",
       "    margin-right: auto !important;\n",
       "}\n",
       "\n",
       ".estimator-table .parameters-table tr:nth-child(odd) {\n",
       "    background-color: #fff;\n",
       "}\n",
       "\n",
       ".estimator-table .parameters-table tr:nth-child(even) {\n",
       "    background-color: #f6f6f6;\n",
       "}\n",
       "\n",
       ".estimator-table .parameters-table tr:hover {\n",
       "    background-color: #e0e0e0;\n",
       "}\n",
       "\n",
       ".estimator-table table td {\n",
       "    border: 1px solid rgba(106, 105, 104, 0.232);\n",
       "}\n",
       "\n",
       ".user-set td {\n",
       "    color:rgb(255, 94, 0);\n",
       "    text-align: left;\n",
       "}\n",
       "\n",
       ".user-set td.value pre {\n",
       "    color:rgb(255, 94, 0) !important;\n",
       "    background-color: transparent !important;\n",
       "}\n",
       "\n",
       ".default td {\n",
       "    color: black;\n",
       "    text-align: left;\n",
       "}\n",
       "\n",
       ".user-set td i,\n",
       ".default td i {\n",
       "    color: black;\n",
       "}\n",
       "\n",
       ".copy-paste-icon {\n",
       "    background-image: url(data:image/svg+xml;base64,PHN2ZyB4bWxucz0iaHR0cDovL3d3dy53My5vcmcvMjAwMC9zdmciIHZpZXdCb3g9IjAgMCA0NDggNTEyIj48IS0tIUZvbnQgQXdlc29tZSBGcmVlIDYuNy4yIGJ5IEBmb250YXdlc29tZSAtIGh0dHBzOi8vZm9udGF3ZXNvbWUuY29tIExpY2Vuc2UgLSBodHRwczovL2ZvbnRhd2Vzb21lLmNvbS9saWNlbnNlL2ZyZWUgQ29weXJpZ2h0IDIwMjUgRm9udGljb25zLCBJbmMuLS0+PHBhdGggZD0iTTIwOCAwTDMzMi4xIDBjMTIuNyAwIDI0LjkgNS4xIDMzLjkgMTQuMWw2Ny45IDY3LjljOSA5IDE0LjEgMjEuMiAxNC4xIDMzLjlMNDQ4IDMzNmMwIDI2LjUtMjEuNSA0OC00OCA0OGwtMTkyIDBjLTI2LjUgMC00OC0yMS41LTQ4LTQ4bDAtMjg4YzAtMjYuNSAyMS41LTQ4IDQ4LTQ4ek00OCAxMjhsODAgMCAwIDY0LTY0IDAgMCAyNTYgMTkyIDAgMC0zMiA2NCAwIDAgNDhjMCAyNi41LTIxLjUgNDgtNDggNDhMNDggNTEyYy0yNi41IDAtNDgtMjEuNS00OC00OEwwIDE3NmMwLTI2LjUgMjEuNS00OCA0OC00OHoiLz48L3N2Zz4=);\n",
       "    background-repeat: no-repeat;\n",
       "    background-size: 14px 14px;\n",
       "    background-position: 0;\n",
       "    display: inline-block;\n",
       "    width: 14px;\n",
       "    height: 14px;\n",
       "    cursor: pointer;\n",
       "}\n",
       "</style><body><div id=\"sk-container-id-1\" class=\"sk-top-container\"><div class=\"sk-text-repr-fallback\"><pre>LogisticRegression()</pre><b>In a Jupyter environment, please rerun this cell to show the HTML representation or trust the notebook. <br />On GitHub, the HTML representation is unable to render, please try loading this page with nbviewer.org.</b></div><div class=\"sk-container\" hidden><div class=\"sk-item\"><div class=\"sk-estimator fitted sk-toggleable\"><input class=\"sk-toggleable__control sk-hidden--visually\" id=\"sk-estimator-id-1\" type=\"checkbox\" checked><label for=\"sk-estimator-id-1\" class=\"sk-toggleable__label fitted sk-toggleable__label-arrow\"><div><div>LogisticRegression</div></div><div><a class=\"sk-estimator-doc-link fitted\" rel=\"noreferrer\" target=\"_blank\" href=\"https://scikit-learn.org/1.7/modules/generated/sklearn.linear_model.LogisticRegression.html\">?<span>Documentation for LogisticRegression</span></a><span class=\"sk-estimator-doc-link fitted\">i<span>Fitted</span></span></div></label><div class=\"sk-toggleable__content fitted\" data-param-prefix=\"\">\n",
       "        <div class=\"estimator-table\">\n",
       "            <details>\n",
       "                <summary>Parameters</summary>\n",
       "                <table class=\"parameters-table\">\n",
       "                  <tbody>\n",
       "                    \n",
       "        <tr class=\"default\">\n",
       "            <td><i class=\"copy-paste-icon\"\n",
       "                 onclick=\"copyToClipboard('penalty',\n",
       "                          this.parentElement.nextElementSibling)\"\n",
       "            ></i></td>\n",
       "            <td class=\"param\">penalty&nbsp;</td>\n",
       "            <td class=\"value\">&#x27;l2&#x27;</td>\n",
       "        </tr>\n",
       "    \n",
       "\n",
       "        <tr class=\"default\">\n",
       "            <td><i class=\"copy-paste-icon\"\n",
       "                 onclick=\"copyToClipboard('dual',\n",
       "                          this.parentElement.nextElementSibling)\"\n",
       "            ></i></td>\n",
       "            <td class=\"param\">dual&nbsp;</td>\n",
       "            <td class=\"value\">False</td>\n",
       "        </tr>\n",
       "    \n",
       "\n",
       "        <tr class=\"default\">\n",
       "            <td><i class=\"copy-paste-icon\"\n",
       "                 onclick=\"copyToClipboard('tol',\n",
       "                          this.parentElement.nextElementSibling)\"\n",
       "            ></i></td>\n",
       "            <td class=\"param\">tol&nbsp;</td>\n",
       "            <td class=\"value\">0.0001</td>\n",
       "        </tr>\n",
       "    \n",
       "\n",
       "        <tr class=\"default\">\n",
       "            <td><i class=\"copy-paste-icon\"\n",
       "                 onclick=\"copyToClipboard('C',\n",
       "                          this.parentElement.nextElementSibling)\"\n",
       "            ></i></td>\n",
       "            <td class=\"param\">C&nbsp;</td>\n",
       "            <td class=\"value\">1.0</td>\n",
       "        </tr>\n",
       "    \n",
       "\n",
       "        <tr class=\"default\">\n",
       "            <td><i class=\"copy-paste-icon\"\n",
       "                 onclick=\"copyToClipboard('fit_intercept',\n",
       "                          this.parentElement.nextElementSibling)\"\n",
       "            ></i></td>\n",
       "            <td class=\"param\">fit_intercept&nbsp;</td>\n",
       "            <td class=\"value\">True</td>\n",
       "        </tr>\n",
       "    \n",
       "\n",
       "        <tr class=\"default\">\n",
       "            <td><i class=\"copy-paste-icon\"\n",
       "                 onclick=\"copyToClipboard('intercept_scaling',\n",
       "                          this.parentElement.nextElementSibling)\"\n",
       "            ></i></td>\n",
       "            <td class=\"param\">intercept_scaling&nbsp;</td>\n",
       "            <td class=\"value\">1</td>\n",
       "        </tr>\n",
       "    \n",
       "\n",
       "        <tr class=\"default\">\n",
       "            <td><i class=\"copy-paste-icon\"\n",
       "                 onclick=\"copyToClipboard('class_weight',\n",
       "                          this.parentElement.nextElementSibling)\"\n",
       "            ></i></td>\n",
       "            <td class=\"param\">class_weight&nbsp;</td>\n",
       "            <td class=\"value\">None</td>\n",
       "        </tr>\n",
       "    \n",
       "\n",
       "        <tr class=\"default\">\n",
       "            <td><i class=\"copy-paste-icon\"\n",
       "                 onclick=\"copyToClipboard('random_state',\n",
       "                          this.parentElement.nextElementSibling)\"\n",
       "            ></i></td>\n",
       "            <td class=\"param\">random_state&nbsp;</td>\n",
       "            <td class=\"value\">None</td>\n",
       "        </tr>\n",
       "    \n",
       "\n",
       "        <tr class=\"default\">\n",
       "            <td><i class=\"copy-paste-icon\"\n",
       "                 onclick=\"copyToClipboard('solver',\n",
       "                          this.parentElement.nextElementSibling)\"\n",
       "            ></i></td>\n",
       "            <td class=\"param\">solver&nbsp;</td>\n",
       "            <td class=\"value\">&#x27;lbfgs&#x27;</td>\n",
       "        </tr>\n",
       "    \n",
       "\n",
       "        <tr class=\"default\">\n",
       "            <td><i class=\"copy-paste-icon\"\n",
       "                 onclick=\"copyToClipboard('max_iter',\n",
       "                          this.parentElement.nextElementSibling)\"\n",
       "            ></i></td>\n",
       "            <td class=\"param\">max_iter&nbsp;</td>\n",
       "            <td class=\"value\">100</td>\n",
       "        </tr>\n",
       "    \n",
       "\n",
       "        <tr class=\"default\">\n",
       "            <td><i class=\"copy-paste-icon\"\n",
       "                 onclick=\"copyToClipboard('multi_class',\n",
       "                          this.parentElement.nextElementSibling)\"\n",
       "            ></i></td>\n",
       "            <td class=\"param\">multi_class&nbsp;</td>\n",
       "            <td class=\"value\">&#x27;deprecated&#x27;</td>\n",
       "        </tr>\n",
       "    \n",
       "\n",
       "        <tr class=\"default\">\n",
       "            <td><i class=\"copy-paste-icon\"\n",
       "                 onclick=\"copyToClipboard('verbose',\n",
       "                          this.parentElement.nextElementSibling)\"\n",
       "            ></i></td>\n",
       "            <td class=\"param\">verbose&nbsp;</td>\n",
       "            <td class=\"value\">0</td>\n",
       "        </tr>\n",
       "    \n",
       "\n",
       "        <tr class=\"default\">\n",
       "            <td><i class=\"copy-paste-icon\"\n",
       "                 onclick=\"copyToClipboard('warm_start',\n",
       "                          this.parentElement.nextElementSibling)\"\n",
       "            ></i></td>\n",
       "            <td class=\"param\">warm_start&nbsp;</td>\n",
       "            <td class=\"value\">False</td>\n",
       "        </tr>\n",
       "    \n",
       "\n",
       "        <tr class=\"default\">\n",
       "            <td><i class=\"copy-paste-icon\"\n",
       "                 onclick=\"copyToClipboard('n_jobs',\n",
       "                          this.parentElement.nextElementSibling)\"\n",
       "            ></i></td>\n",
       "            <td class=\"param\">n_jobs&nbsp;</td>\n",
       "            <td class=\"value\">None</td>\n",
       "        </tr>\n",
       "    \n",
       "\n",
       "        <tr class=\"default\">\n",
       "            <td><i class=\"copy-paste-icon\"\n",
       "                 onclick=\"copyToClipboard('l1_ratio',\n",
       "                          this.parentElement.nextElementSibling)\"\n",
       "            ></i></td>\n",
       "            <td class=\"param\">l1_ratio&nbsp;</td>\n",
       "            <td class=\"value\">None</td>\n",
       "        </tr>\n",
       "    \n",
       "                  </tbody>\n",
       "                </table>\n",
       "            </details>\n",
       "        </div>\n",
       "    </div></div></div></div></div><script>function copyToClipboard(text, element) {\n",
       "    // Get the parameter prefix from the closest toggleable content\n",
       "    const toggleableContent = element.closest('.sk-toggleable__content');\n",
       "    const paramPrefix = toggleableContent ? toggleableContent.dataset.paramPrefix : '';\n",
       "    const fullParamName = paramPrefix ? `${paramPrefix}${text}` : text;\n",
       "\n",
       "    const originalStyle = element.style;\n",
       "    const computedStyle = window.getComputedStyle(element);\n",
       "    const originalWidth = computedStyle.width;\n",
       "    const originalHTML = element.innerHTML.replace('Copied!', '');\n",
       "\n",
       "    navigator.clipboard.writeText(fullParamName)\n",
       "        .then(() => {\n",
       "            element.style.width = originalWidth;\n",
       "            element.style.color = 'green';\n",
       "            element.innerHTML = \"Copied!\";\n",
       "\n",
       "            setTimeout(() => {\n",
       "                element.innerHTML = originalHTML;\n",
       "                element.style = originalStyle;\n",
       "            }, 2000);\n",
       "        })\n",
       "        .catch(err => {\n",
       "            console.error('Failed to copy:', err);\n",
       "            element.style.color = 'red';\n",
       "            element.innerHTML = \"Failed!\";\n",
       "            setTimeout(() => {\n",
       "                element.innerHTML = originalHTML;\n",
       "                element.style = originalStyle;\n",
       "            }, 2000);\n",
       "        });\n",
       "    return false;\n",
       "}\n",
       "\n",
       "document.querySelectorAll('.fa-regular.fa-copy').forEach(function(element) {\n",
       "    const toggleableContent = element.closest('.sk-toggleable__content');\n",
       "    const paramPrefix = toggleableContent ? toggleableContent.dataset.paramPrefix : '';\n",
       "    const paramName = element.parentElement.nextElementSibling.textContent.trim();\n",
       "    const fullParamName = paramPrefix ? `${paramPrefix}${paramName}` : paramName;\n",
       "\n",
       "    element.setAttribute('title', fullParamName);\n",
       "});\n",
       "</script></body>"
      ],
      "text/plain": [
       "LogisticRegression()"
      ]
     },
     "execution_count": 19,
     "metadata": {},
     "output_type": "execute_result"
    }
   ],
   "source": [
    "# Import the LogisticRegression class from sklearn's linear_model module\n",
    "from sklearn.linear_model import LogisticRegression\n",
    "\n",
    "# Create an instance of the LogisticRegression class. This classifier will be configured with its default parameters.\n",
    "clf = LogisticRegression()\n",
    "\n",
    "# Fit the logistic regression model on the training data.\n",
    "# 'digX_train' contains the feature data for training, and 'y_train_8' is a binary target array\n",
    "# indicating whether each corresponding digit is an '8' (True) or not (False).\n",
    "clf.fit(digX_train, y_train_8) #คือการฝึกโมเดล Logistic Regression โดยใช้ชุดข้อมูลฝึก 'digX_train' และเป้าหมาย 'y_train_8' เพื่อให้โมเดลเรียนรู้การจำแนกตัวเลข 8 ออกจากตัวเลขอื่น ๆ"
   ]
  },
  {
   "cell_type": "code",
   "execution_count": 28,
   "metadata": {
    "colab": {
     "base_uri": "https://localhost:8080/"
    },
    "executionInfo": {
     "elapsed": 4,
     "status": "ok",
     "timestamp": 1715060771798,
     "user": {
      "displayName": "Kunjira Kingphai",
      "userId": "10851108113379732662"
     },
     "user_tz": -60
    },
    "id": "SgYIDeqWgAaw",
    "outputId": "4c5dcf69-4141-43e3-eda0-34b828192658"
   },
   "outputs": [
    {
     "data": {
      "text/plain": [
       "array([ True])"
      ]
     },
     "execution_count": 28,
     "metadata": {},
     "output_type": "execute_result"
    }
   ],
   "source": [
    "# Using the trained logistic regression model to predict whether a specific sample (the 24th sample in the training set) is the digit '8'.\n",
    "# The input data must be in an array format, hence '[digX_train[23]]'.\n",
    "# 'clf.predict' returns the predicted class (True for '8', False for not '8').\n",
    "clf.predict([digX_train[28]]) #คือการใช้โมเดล Logistic Regression ที่ฝึกมาแล้วเพื่อทำนายว่าตัวอย่างที่ 24 ในชุดข้อมูลฝึกเป็นตัวเลข 8 หรือไม่ โดยใช้ฟังก์ชัน 'predict' ของโมเดล"
   ]
  },
  {
   "cell_type": "code",
   "execution_count": 30,
   "metadata": {
    "id": "Q_isHU2Xlqkp"
   },
   "outputs": [],
   "source": [
    "# Using the logistic regression model to predict the classes for all samples in the testing dataset.\n",
    "# 'digX_test' contains the feature data for testing.\n",
    "# The output 'digy_test_pred' will be an array of True/False values indicating the model's predictions for each test sample.\n",
    "digy_test_pred = clf.predict(digX_test) #คือการใช้โมเดล Logistic Regression ที่ฝึกมาแล้วเพื่อทำนายว่าตัวอย่างในชุดข้อมูลทดสอบเป็นตัวเลข 8 หรือไม่ โดยใช้ฟังก์ชัน 'predict' ของโมเดล"
   ]
  },
  {
   "cell_type": "code",
   "execution_count": 31,
   "metadata": {
    "colab": {
     "base_uri": "https://localhost:8080/"
    },
    "executionInfo": {
     "elapsed": 1921,
     "status": "ok",
     "timestamp": 1715060855898,
     "user": {
      "displayName": "Kunjira Kingphai",
      "userId": "10851108113379732662"
     },
     "user_tz": -60
    },
    "id": "KTuKjucUgAax",
    "outputId": "a610dfae-353a-4e18-9d3c-b9c16cc0e12f"
   },
   "outputs": [
    {
     "data": {
      "text/plain": [
       "array([[341,  17],\n",
       "       [ 15,  24]])"
      ]
     },
     "execution_count": 31,
     "metadata": {},
     "output_type": "execute_result"
    }
   ],
   "source": [
    "# Import the confusion_matrix function from sklearn's metrics module\n",
    "from sklearn.metrics import confusion_matrix\n",
    "\n",
    "# Generate a confusion matrix to evaluate the accuracy of the logistic regression classifier.\n",
    "# 'y_test_8' is the true binary labels for the test set (True if the digit is '8', False otherwise),\n",
    "# and 'digy_test_pred' is the array of predicted labels from the logistic regression model.\n",
    "# The confusion matrix will show the number of true positives, false positives, true negatives, and false negatives.\n",
    "confusion_matrix(y_test_8, digy_test_pred) #คือการสร้างเมทริกซ์ความสับสน (confusion matrix) เพื่อประเมินความแม่นยำของโมเดล Logistic Regression โดยเปรียบเทียบค่าจริงกับค่าที่โมเดลทำนาย\n",
    "# 'y_test_8' คือค่าจริงของชุดทดสอบ (True ถ้ตัวเลขเป็น 8, False ถ้าไม่ใช่)\n",
    "# 'digy_test_pred' คือค่าที่โมเดลทำนาย โดยเมทริกซ์ความสับสนจะแสดงจำนวนของ True Positives, False Positives, True Negatives, และ False Negatives"
   ]
  },
  {
   "cell_type": "code",
   "execution_count": 43,
   "metadata": {
    "colab": {
     "base_uri": "https://localhost:8080/",
     "height": 564
    },
    "executionInfo": {
     "elapsed": 2320,
     "status": "ok",
     "timestamp": 1715060929637,
     "user": {
      "displayName": "Kunjira Kingphai",
      "userId": "10851108113379732662"
     },
     "user_tz": -60
    },
    "id": "cKk2dOWNmOAv",
    "outputId": "7c49d166-129d-4a30-b4b6-039cc8977859"
   },
   "outputs": [
    {
     "data": {
      "image/png": "[encoded data removed]",
      "text/plain": [
       "<Figure size 800x600 with 1 Axes>"
      ]
     },
     "metadata": {},
     "output_type": "display_data"
    }
   ],
   "source": [
    "import seaborn as sns\n",
    "import matplotlib.pyplot as plt\n",
    "from sklearn.metrics import confusion_matrix\n",
    "import pandas as pd\n",
    "\n",
    "# Assuming 'clf', 'digX_test', and 'y_test_8' are already defined and the model has been fitted\n",
    "# Predict the test dataset\n",
    "digy_test_pred = clf.predict(digX_test)\n",
    "\n",
    "# Generate the confusion matrix\n",
    "cm = confusion_matrix(y_test_8, digy_test_pred)\n",
    "\n",
    "# Create a DataFrame for better label handling in Seaborn\n",
    "cm_df = pd.DataFrame(cm, index=['Actual Not-8', 'Actual 8'], columns=['Predicted Not-8', 'Predicted 8'])\n",
    " #คือการสร้าง DataFrame สำหรับเมทริกซ์ความสับสนเพื่อให้สามารถจัดการกับป้ายกำกับได้ง่ายขึ้นใน Seaborn\n",
    "\n",
    "# Plotting using Seaborn's heatmap function for better visualization\n",
    "plt.figure(figsize=(8,6))\n",
    "sns.heatmap(cm_df, annot=True, fmt=\"d\", cmap=\"Greens\", cbar=False)\n",
    "plt.title('Confusion Matrix')\n",
    "plt.ylabel('True Label')\n",
    "plt.xlabel('Predicted Label')\n",
    "plt.show()\n"
   ]
  },
  {
   "cell_type": "code",
   "execution_count": 49,
   "metadata": {
    "colab": {
     "base_uri": "https://localhost:8080/"
    },
    "executionInfo": {
     "elapsed": 7,
     "status": "ok",
     "timestamp": 1715062251750,
     "user": {
      "displayName": "Kunjira Kingphai",
      "userId": "10851108113379732662"
     },
     "user_tz": -60
    },
    "id": "8mMrnJSRrQ8s",
    "outputId": "890c57fc-59fe-4937-a3e7-66881d4d72ec"
   },
   "outputs": [
    {
     "name": "stdout",
     "output_type": "stream",
     "text": [
      "True Negatives (TN): 341\n",
      "False Positives (FP): 17\n",
      "False Negatives (FN): 15\n",
      "True Positives (TP): 24\n"
     ]
    }
   ],
   "source": [
    "# Generate confusion matrix\n",
    "cm = confusion_matrix(y_test_8, digy_test_pred)\n",
    "\n",
    "# Assign values from the confusion matrix to variables for easier interpretation\n",
    "TN, FP, FN, TP = cm.ravel()  # ravel will flatten the 2x2 confusion matrix into a 1D array that maps to TN, FP, FN, TP\n",
    "\n",
    "# Print the values\n",
    "print(f\"True Negatives (TN): {TN}\")\n",
    "print(f\"False Positives (FP): {FP}\")\n",
    "print(f\"False Negatives (FN): {FN}\")\n",
    "print(f\"True Positives (TP): {TP}\")\n",
    "\n"
   ]
  },
  {
   "cell_type": "markdown",
   "metadata": {
    "id": "mM6uQCmlgAax"
   },
   "source": [
    "#Section 3.3: Performance Metrics\n",
    "##### U Let's delve deeper into how true positives (TP), true negatives (TN), false positives (FP), and false negatives (FN) can be used to calculate various performance metrics and further analyze the behavior of your classification model."
   ]
  },
  {
   "cell_type": "code",
   "execution_count": 50,
   "metadata": {
    "colab": {
     "base_uri": "https://localhost:8080/"
    },
    "executionInfo": {
     "elapsed": 667,
     "status": "ok",
     "timestamp": 1715062989063,
     "user": {
      "displayName": "Kunjira Kingphai",
      "userId": "10851108113379732662"
     },
     "user_tz": -60
    },
    "id": "TJFzTTqpgAax",
    "outputId": "09ae7330-4718-453b-87ad-1881b691a14b"
   },
   "outputs": [
    {
     "name": "stdout",
     "output_type": "stream",
     "text": [
      "Accuracy: 0.9193954659949622\n",
      "Precision: 0.5853658536585366\n",
      "Recall: 0.6153846153846154\n",
      "F1 Score: 0.6\n",
      "ROC AUC: 0.9322446640882396\n"
     ]
    }
   ],
   "source": [
    "# Import necessary functions for calculating metrics\n",
    "from sklearn.metrics import accuracy_score, precision_score, recall_score, f1_score, roc_auc_score\n",
    "\n",
    "# Calculate accuracy: Measure the overall correctness of the model\n",
    "accuracy = accuracy_score(y_test_8, digy_test_pred) #คือการคำนวณความแม่นยำของโมเดล โดยเปรียบเทียบค่าจริงกับค่าที่โมเดลทำนาย\n",
    "\n",
    "# Calculate precision: Ratio of correctly predicted positive observations to the total predicted positives\n",
    "precision = precision_score(y_test_8, digy_test_pred) #คือการคำนวณความแม่นยำของโมเดล โดยเปรียบเทียบจำนวนตัวอย่างที่โมเดลทำนายว่าเป็น 8 กับจำนวนตัวอย่างที่แท้จริงเป็น 8\n",
    "\n",
    "# Calculate recall: Model's ability to correctly identify all actual positives\n",
    "recall = recall_score(y_test_8, digy_test_pred) #คือการคำนวณความสามารถของโมเดลในการระบุว่าตัวเลขที่แท้จริงเป็น 8 หรือไม่ โดยจะคำนวณจากจำนวนตัวอย่างที่โมเดลทำนายว่าเป็น 8 และจำนวนตัวอย่างที่แท้จริงเป็น 8\n",
    "\n",
    "# Calculate F1 score: Balance between precision and recall\n",
    "f1 = f1_score(y_test_8, digy_test_pred) #คือการคำนวณคะแนน F1 ซึ่งเป็นการวัดความสมดุลระหว่างความแม่นยำ (precision) และการเรียกคืน (recall) ของโมเดล โดยจะคำนวณจากค่าที่ได้จาก precision และ recall\n",
    "\n",
    "# Calculate ROC AUC: Area under the ROC curve from prediction scores\n",
    "roc_auc = roc_auc_score(y_test_8, clf.decision_function(digX_test)) #คือการคำนวณค่า ROC AUC ซึ่งเป็นพื้นที่ใต้เส้นโค้ง ROC ที่ใช้วัดประสิทธิภาพของโมเดลในการจำแนกประเภท โดยใช้ฟังก์ชัน 'decision_function' ของโมเดล Logistic Regression เพื่อให้ได้คะแนนการทำนาย\n",
    "\n",
    "# Output the calculated metrics\n",
    "print(f\"Accuracy: {accuracy}\")\n",
    "print(f\"Precision: {precision}\")\n",
    "print(f\"Recall: {recall}\")\n",
    "print(f\"F1 Score: {f1}\")\n",
    "print(f\"ROC AUC: {roc_auc}\")"
   ]
  },
  {
   "cell_type": "markdown",
   "metadata": {
    "id": "_kJd8yaXgAay"
   },
   "source": [
    "##3.3.1 Plotting ROC Curve and AUC\n",
    "* ROC Curve: A graphical plot that illustrates the diagnostic ability of a binary classifier system as its discrimination threshold is varied.\n",
    "* AUC: The area under the ROC curve; a higher AUC represents a better performing model."
   ]
  },
  {
   "cell_type": "code",
   "execution_count": 51,
   "metadata": {
    "id": "gpBU2661uTQW"
   },
   "outputs": [],
   "source": [
    "from sklearn.metrics import roc_curve, auc\n",
    "fpr, tpr, thresholds = roc_curve(y_test_8, clf.decision_function(digX_test))\n",
    "roc_auc = auc(fpr, tpr)"
   ]
  },
  {
   "cell_type": "code",
   "execution_count": null,
   "metadata": {
    "colab": {
     "base_uri": "https://localhost:8080/",
     "height": 564
    },
    "executionInfo": {
     "elapsed": 1027,
     "status": "ok",
     "timestamp": 1715063111696,
     "user": {
      "displayName": "Kunjira Kingphai",
      "userId": "10851108113379732662"
     },
     "user_tz": -60
    },
    "id": "o1gipqNPuBIn",
    "outputId": "8820d70d-cc9e-4cd1-85f8-f9ca876c02bd"
   },
   "outputs": [
    {
     "data": {
      "image/png": "[encoded data removed]",
      "text/plain": [
       "<Figure size 800x600 with 1 Axes>"
      ]
     },
     "metadata": {},
     "output_type": "display_data"
    }
   ],
   "source": [
    "import matplotlib.pyplot as plt\n",
    "plt.figure(figsize=(8, 6))\n",
    "plt.plot(fpr, tpr, color='darkorange', lw=2, label=f'ROC curve (area = {roc_auc:.2f})') #คือการสร้างกราฟ ROC โดยใช้ค่าที่คำนวณได้จาก fpr (อัตราการผิดพลาดเชิงบวก) และ tpr (อัตราการตอบสนองเชิงบวก) พร้อมกับพื้นที่ใต้เส้นโค้ง ROC (roc_auc)\n",
    "plt.plot([0, 1], [0, 1], color='navy', lw=2, linestyle='--')\n",
    "plt.xlim([0.0, 1.0])\n",
    "plt.ylim([0.0, 1.05])\n",
    "plt.xlabel('False Positive Rate')\n",
    "plt.ylabel('True Positive Rate')\n",
    "plt.title('Receiver Operating Characteristic')\n",
    "plt.legend(loc=\"lower right\")\n",
    "plt.show()"
   ]
  },
  {
   "cell_type": "markdown",
   "metadata": {
    "id": "Pyh9kWI7uuNt"
   },
   "source": [
    "##3.3.2 Plotting Precision vs Recall"
   ]
  },
  {
   "cell_type": "code",
   "execution_count": 53,
   "metadata": {
    "id": "fV0Zf74kgAay"
   },
   "outputs": [],
   "source": [
    "# This comment introduces the function, describing its purpose as a utility for plotting the precision-recall curve.\n",
    "#helper function for plotting the precision recall curve\n",
    "\n",
    "def plot_precision_vs_recall(precisions, recalls):\n",
    "    # Start by creating a new figure with a specific size to ensure the plot is sufficiently large and clear.\n",
    "    plt.figure(figsize=(8, 6))\n",
    "\n",
    "    # Plot the precision-recall curve using a blue solid line with a linewidth of 2 for visibility.\n",
    "    # 'recalls' is set on the x-axis, and 'precisions' on the y-axis.\n",
    "    plt.plot(recalls, precisions, \"b-\", linewidth=2)\n",
    "\n",
    "    # Label the x-axis as \"Recall\" with a font size of 16 for readability.\n",
    "    plt.xlabel(\"Recall\", fontsize=16)\n",
    "\n",
    "    # Label the y-axis as \"Precision\" with a font size of 16 for readability.\n",
    "    plt.ylabel(\"Precision\", fontsize=16)\n",
    "\n",
    "    # Set the range for the x and y axes. Both axes range from 0 to 1, which is typical for these metrics since both precision and recall are percentages.\n",
    "    plt.axis([0, 1, 0, 1])\n",
    "\n",
    "    # Display the plot with all the settings defined above.\n",
    "    plt.show()"
   ]
  },
  {
   "cell_type": "code",
   "execution_count": 54,
   "metadata": {
    "colab": {
     "base_uri": "https://localhost:8080/",
     "height": 990
    },
    "executionInfo": {
     "elapsed": 23,
     "status": "ok",
     "timestamp": 1715062943656,
     "user": {
      "displayName": "Kunjira Kingphai",
      "userId": "10851108113379732662"
     },
     "user_tz": -60
    },
    "id": "18J9JiBEgAay",
    "outputId": "369c7d95-2246-4eab-a5f4-b69d18505812"
   },
   "outputs": [
    {
     "name": "stderr",
     "output_type": "stream",
     "text": [
      "C:\\Users\\praph\\AppData\\Local\\Packages\\PythonSoftwareFoundation.Python.3.11_qbz5n2kfra8p0\\LocalCache\\local-packages\\Python311\\site-packages\\sklearn\\linear_model\\_logistic.py:470: ConvergenceWarning: lbfgs failed to converge after 100 iteration(s) (status=1):\n",
      "STOP: TOTAL NO. OF ITERATIONS REACHED LIMIT\n",
      "\n",
      "Increase the number of iterations to improve the convergence (max_iter=100).\n",
      "You might also want to scale the data as shown in:\n",
      "    https://scikit-learn.org/stable/modules/preprocessing.html\n",
      "Please also refer to the documentation for alternative solver options:\n",
      "    https://scikit-learn.org/stable/modules/linear_model.html#logistic-regression\n",
      "  n_iter_i = _check_optimize_result(\n",
      "C:\\Users\\praph\\AppData\\Local\\Packages\\PythonSoftwareFoundation.Python.3.11_qbz5n2kfra8p0\\LocalCache\\local-packages\\Python311\\site-packages\\sklearn\\linear_model\\_logistic.py:470: ConvergenceWarning: lbfgs failed to converge after 100 iteration(s) (status=1):\n",
      "STOP: TOTAL NO. OF ITERATIONS REACHED LIMIT\n",
      "\n",
      "Increase the number of iterations to improve the convergence (max_iter=100).\n",
      "You might also want to scale the data as shown in:\n",
      "    https://scikit-learn.org/stable/modules/preprocessing.html\n",
      "Please also refer to the documentation for alternative solver options:\n",
      "    https://scikit-learn.org/stable/modules/linear_model.html#logistic-regression\n",
      "  n_iter_i = _check_optimize_result(\n",
      "C:\\Users\\praph\\AppData\\Local\\Packages\\PythonSoftwareFoundation.Python.3.11_qbz5n2kfra8p0\\LocalCache\\local-packages\\Python311\\site-packages\\sklearn\\linear_model\\_logistic.py:470: ConvergenceWarning: lbfgs failed to converge after 100 iteration(s) (status=1):\n",
      "STOP: TOTAL NO. OF ITERATIONS REACHED LIMIT\n",
      "\n",
      "Increase the number of iterations to improve the convergence (max_iter=100).\n",
      "You might also want to scale the data as shown in:\n",
      "    https://scikit-learn.org/stable/modules/preprocessing.html\n",
      "Please also refer to the documentation for alternative solver options:\n",
      "    https://scikit-learn.org/stable/modules/linear_model.html#logistic-regression\n",
      "  n_iter_i = _check_optimize_result(\n"
     ]
    },
    {
     "data": {
      "image/png": "[encoded data removed]",
      "text/plain": [
       "<Figure size 800x600 with 1 Axes>"
      ]
     },
     "metadata": {},
     "output_type": "display_data"
    }
   ],
   "source": [
    "# Import necessary modules for cross-validation and precision-recall computation\n",
    "from sklearn.model_selection import cross_val_predict\n",
    "from sklearn.metrics import precision_recall_curve\n",
    "\n",
    "# Obtain decision scores for each instance in the training set using cross-validation.\n",
    "# 'clf' is your classifier (e.g., Logistic Regression), and 'cv=3' specifies 3-fold cross-validation.\n",
    "# 'method=\"decision_function\"' tells cross_val_predict to return decision function values instead of predictions,\n",
    "# which are required for calculating precision and recall.\n",
    "y_scores = cross_val_predict(clf, digX_train, y_train_8, cv=3, method=\"decision_function\")\n",
    "\n",
    "# Calculate precision and recall for various threshold values using the decision scores.\n",
    "# 'precision_recall_curve' returns lists of precision and recall values for different thresholds.\n",
    "precisions, recalls, thresholds = precision_recall_curve(y_train_8, y_scores)\n",
    "\n",
    "# Call the helper function to plot the precision vs. recall curve.\n",
    "# 'precisions' and 'recalls' are plotted to understand the trade-off between the two metrics across different thresholds.\n",
    "plot_precision_vs_recall(precisions, recalls)"
   ]
  },
  {
   "cell_type": "markdown",
   "metadata": {
    "id": "EGlc-KDBgAaz"
   },
   "source": [
    "#Section 3.4: Multiple Classes Clasification"
   ]
  },
  {
   "cell_type": "markdown",
   "metadata": {
    "id": "OP_4PyD0gAaz"
   },
   "source": [
    "##### Bellow we are creating a classifier that can classify multiple digits using the OneVsRestClassifier\n",
    "##### Instead of limiting to digit 8 as before we use the whole training and testing datasets\n",
    "##### Again there will be some warnings when running the cell bellow ignore them for now"
   ]
  },
  {
   "cell_type": "code",
   "execution_count": 55,
   "metadata": {
    "colab": {
     "base_uri": "https://localhost:8080/"
    },
    "executionInfo": {
     "elapsed": 1271,
     "status": "ok",
     "timestamp": 1715063270858,
     "user": {
      "displayName": "Kunjira Kingphai",
      "userId": "10851108113379732662"
     },
     "user_tz": -60
    },
    "id": "ahNjHWB5gAaz",
    "outputId": "b7b0404a-1b3b-4d25-a7fc-836efeb42b07"
   },
   "outputs": [
    {
     "name": "stderr",
     "output_type": "stream",
     "text": [
      "C:\\Users\\praph\\AppData\\Local\\Packages\\PythonSoftwareFoundation.Python.3.11_qbz5n2kfra8p0\\LocalCache\\local-packages\\Python311\\site-packages\\sklearn\\linear_model\\_logistic.py:470: ConvergenceWarning: lbfgs failed to converge after 100 iteration(s) (status=1):\n",
      "STOP: TOTAL NO. OF ITERATIONS REACHED LIMIT\n",
      "\n",
      "Increase the number of iterations to improve the convergence (max_iter=100).\n",
      "You might also want to scale the data as shown in:\n",
      "    https://scikit-learn.org/stable/modules/preprocessing.html\n",
      "Please also refer to the documentation for alternative solver options:\n",
      "    https://scikit-learn.org/stable/modules/linear_model.html#logistic-regression\n",
      "  n_iter_i = _check_optimize_result(\n",
      "C:\\Users\\praph\\AppData\\Local\\Packages\\PythonSoftwareFoundation.Python.3.11_qbz5n2kfra8p0\\LocalCache\\local-packages\\Python311\\site-packages\\sklearn\\linear_model\\_logistic.py:470: ConvergenceWarning: lbfgs failed to converge after 100 iteration(s) (status=1):\n",
      "STOP: TOTAL NO. OF ITERATIONS REACHED LIMIT\n",
      "\n",
      "Increase the number of iterations to improve the convergence (max_iter=100).\n",
      "You might also want to scale the data as shown in:\n",
      "    https://scikit-learn.org/stable/modules/preprocessing.html\n",
      "Please also refer to the documentation for alternative solver options:\n",
      "    https://scikit-learn.org/stable/modules/linear_model.html#logistic-regression\n",
      "  n_iter_i = _check_optimize_result(\n",
      "C:\\Users\\praph\\AppData\\Local\\Packages\\PythonSoftwareFoundation.Python.3.11_qbz5n2kfra8p0\\LocalCache\\local-packages\\Python311\\site-packages\\sklearn\\linear_model\\_logistic.py:470: ConvergenceWarning: lbfgs failed to converge after 100 iteration(s) (status=1):\n",
      "STOP: TOTAL NO. OF ITERATIONS REACHED LIMIT\n",
      "\n",
      "Increase the number of iterations to improve the convergence (max_iter=100).\n",
      "You might also want to scale the data as shown in:\n",
      "    https://scikit-learn.org/stable/modules/preprocessing.html\n",
      "Please also refer to the documentation for alternative solver options:\n",
      "    https://scikit-learn.org/stable/modules/linear_model.html#logistic-regression\n",
      "  n_iter_i = _check_optimize_result(\n"
     ]
    }
   ],
   "source": [
    "# Import the OneVsRestClassifier from sklearn.multiclass to handle multi-class classification\n",
    "from sklearn.multiclass import OneVsRestClassifier\n",
    "\n",
    "# Create an instance of the OneVsRestClassifier.\n",
    "# LogisticRegression is used as the base classifier for this multi-class strategy.\n",
    "# Each binary classification model will predict whether a sample belongs to one of the classes versus all other classes.\n",
    "ovr_clf = OneVsRestClassifier(LogisticRegression())\n",
    "\n",
    "# Fit the OneVsRestClassifier to the training data.\n",
    "# This trains a Logistic Regression model for each class against all other classes.\n",
    "# 'digX_train' contains the feature data, and 'digy_train' contains the actual class labels for training.\n",
    "ovr_clf.fit(digX_train, digy_train)\n",
    "\n",
    "# Use the trained classifier to make predictions on the test dataset.\n",
    "# 'digX_test' contains the feature data for testing.\n",
    "# 'digy_test_pred' will store the predicted class labels for each instance in the test set.\n",
    "digy_test_pred = ovr_clf.predict(digX_test)\n"
   ]
  },
  {
   "cell_type": "markdown",
   "metadata": {
    "id": "hNmgKwhigAaz"
   },
   "source": [
    "##### Using the correct values and the predicted values from above the confusion matrix is constructed"
   ]
  },
  {
   "cell_type": "code",
   "execution_count": 56,
   "metadata": {
    "colab": {
     "base_uri": "https://localhost:8080/"
    },
    "executionInfo": {
     "elapsed": 541,
     "status": "ok",
     "timestamp": 1715063988616,
     "user": {
      "displayName": "Kunjira Kingphai",
      "userId": "10851108113379732662"
     },
     "user_tz": -60
    },
    "id": "xLE5wkzJgAa0",
    "outputId": "0eb49a19-5a8e-43ee-afcc-c2e5bfe89145"
   },
   "outputs": [
    {
     "data": {
      "text/plain": [
       "array([[37,  0,  0,  0,  1,  0,  1,  0,  0,  0],\n",
       "       [ 0, 30,  0,  2,  0,  0,  0,  0,  3,  4],\n",
       "       [ 0,  0, 40,  0,  0,  0,  0,  0,  0,  0],\n",
       "       [ 0,  1,  0, 28,  0,  2,  0,  2,  6,  0],\n",
       "       [ 0,  1,  0,  0, 38,  0,  0,  0,  0,  2],\n",
       "       [ 0,  2,  0,  0,  0, 39,  0,  0,  0,  0],\n",
       "       [ 0,  0,  0,  0,  0,  0, 39,  0,  0,  0],\n",
       "       [ 0,  1,  0,  0,  0,  0,  0, 34,  3,  1],\n",
       "       [ 0,  3,  0,  0,  1,  0,  0,  0, 35,  0],\n",
       "       [ 1,  2,  0,  1,  0,  0,  0,  1,  0, 36]])"
      ]
     },
     "execution_count": 56,
     "metadata": {},
     "output_type": "execute_result"
    }
   ],
   "source": [
    "confusion_matrix(digy_test, digy_test_pred)"
   ]
  },
  {
   "cell_type": "code",
   "execution_count": null,
   "metadata": {
    "colab": {
     "base_uri": "https://localhost:8080/"
    },
    "executionInfo": {
     "elapsed": 533,
     "status": "ok",
     "timestamp": 1715063997344,
     "user": {
      "displayName": "Kunjira Kingphai",
      "userId": "10851108113379732662"
     },
     "user_tz": -60
    },
    "id": "o0juQ91Px0K_",
    "outputId": "fc8e2ce1-a59a-4a55-da9a-f23ce12fcd1b"
   },
   "outputs": [
    {
     "name": "stdout",
     "output_type": "stream",
     "text": [
      "Confusion Matrix with Labels:\n",
      "         Class 0  Class 1  Class 2  Class 3  Class 4  Class 5  Class 6  \\\n",
      "Class 0       37        0        0        0        1        0        1   \n",
      "Class 1        0       30        0        2        0        0        0   \n",
      "Class 2        0        0       40        0        0        0        0   \n",
      "Class 3        0        1        0       28        0        2        0   \n",
      "Class 4        0        1        0        0       38        0        0   \n",
      "Class 5        0        2        0        0        0       39        0   \n",
      "Class 6        0        0        0        0        0        0       39   \n",
      "Class 7        0        1        0        0        0        0        0   \n",
      "Class 8        0        3        0        0        1        0        0   \n",
      "Class 9        1        2        0        1        0        0        0   \n",
      "\n",
      "         Class 7  Class 8  Class 9  \n",
      "Class 0        0        0        0  \n",
      "Class 1        0        3        4  \n",
      "Class 2        0        0        0  \n",
      "Class 3        2        6        0  \n",
      "Class 4        0        0        2  \n",
      "Class 5        0        0        0  \n",
      "Class 6        0        0        0  \n",
      "Class 7       34        3        1  \n",
      "Class 8        0       35        0  \n",
      "Class 9        1        0       36  \n",
      "356\n"
     ]
    }
   ],
   "source": [
    "from sklearn.metrics import confusion_matrix\n",
    "import pandas as pd\n",
    "\n",
    "# Assuming 'digy_test' contains the true labels and 'digy_test_pred' contains the predicted labels from the classifier\n",
    "# Generate the confusion matrix\n",
    "cm = confusion_matrix(digy_test, digy_test_pred)\n",
    "\n",
    "# Optionally, create a pandas DataFrame to add labels for better readability.\n",
    "# Here, you might need to adjust or explicitly define class labels depending on your specific dataset or number of classes.\n",
    "class_labels = [f'Class {i}' for i in range(len(cm))]  # Generate labels such as Class 0, Class 1, ..., Class n\n",
    "cm_df = pd.DataFrame(cm, index=class_labels, columns=class_labels)\n",
    "\n",
    "# Display the confusion matrix with labels\n",
    "print(\"Confusion Matrix with Labels:\") #คือการแสดงเมทริกซ์ความสับสนพร้อมป้ายกำกับเพื่อให้อ่านง่ายขึ้น\n",
    "print(cm_df)\n",
    "print(37+30+40+28+38+39+39+34+35+36)"
   ]
  },
  {
   "cell_type": "code",
   "execution_count": null,
   "metadata": {
    "id": "tBBD2xCBx7x6"
   },
   "outputs": [],
   "source": []
  }
 ],
 "metadata": {
  "colab": {
   "authorship_tag": "ABX9TyOCrHvCBIchCaK8nZNdlYGV",
   "provenance": []
  },
  "kernelspec": {
   "display_name": "Python 3",
   "name": "python3"
  },
  "language_info": {
   "codemirror_mode": {
    "name": "ipython",
    "version": 3
   },
   "file_extension": ".py",
   "mimetype": "text/x-python",
   "name": "python",
   "nbconvert_exporter": "python",
   "pygments_lexer": "ipython3",
   "version": "3.11.9"
  }
 },
 "nbformat": 4,
 "nbformat_minor": 0
}
