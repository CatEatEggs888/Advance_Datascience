{
 "cells": [
  {
   "cell_type": "code",
   "execution_count": 107,
   "id": "350e1fc5",
   "metadata": {},
   "outputs": [],
   "source": [
    "import json\n",
    "from typing import List, Dict, Any\n",
    "\n",
    "# Book data in Library of Congress JSON format\n",
    "\n",
    "books = [\n",
    "    {\n",
    "        \"id\":1,\n",
    "        \"title\":\"The Great Gatsby\",\n",
    "        \"author\":\"F. Scott Fitzgerald\",\n",
    "        \"year\":1925,\n",
    "        \"category\":\"Fiction\",\n",
    "        \"available\":True,\n",
    "        \"rating\":[4,5,3,4,2],\n",
    "    },\n",
    "    {\n",
    "        \"id\":2,\n",
    "        \"title\":\"To Kill a Mockingbird\",\n",
    "        \"author\":\"Harper Lee\",\n",
    "        \"year\":1960,\n",
    "        \"category\":\"Fiction\",\n",
    "        \"available\":True,\n",
    "        \"rating\":[5,4,5,2,5],\n",
    "    },\n",
    "    {   \"id\":3,\n",
    "        \"title\":\"Data Science from Scratch\",\n",
    "        \"author\":\"George Orwell\",\n",
    "        \"year\":1949,\n",
    "        \"category\":\"Dystopian\",\n",
    "        \"available\":False,\n",
    "        \"rating\":[5,2,4,5,5],\n",
    "    },\n",
    "    {\n",
    "        \"id\":4,\n",
    "        \"title\":\"The Catcher in the Rye\",\n",
    "        \"author\":\"J.D. Salinger\",\n",
    "        \"year\":1951,\n",
    "        \"category\":\"Fiction\",\n",
    "        \"available\":True,\n",
    "        \"rating\":[3,4,2,5,4],\n",
    "    },\n",
    "    {\n",
    "        \"id\":5,\n",
    "        \"title\":\"1984\",\n",
    "        \"author\":\"George Orwell\",\n",
    "        \"year\":1949,\n",
    "        \"category\":\"Dystopian\",\n",
    "        \"available\":False,\n",
    "        \"rating\":[5,5,4,3,2],\n",
    "    },\n",
    "    {\n",
    "        \"id\":6,\n",
    "        \"title\":\"Pride and Prejudice\",\n",
    "        \"author\":\"Jane Austen\",\n",
    "        \"year\":1813,\n",
    "        \"category\":\"Romance\",\n",
    "        \"available\":True,\n",
    "        \"rating\":[4,5,4,3,5],\n",
    "    },\n",
    "    {\n",
    "        \"id\":7,\n",
    "        \"title\":\"The Hobbit\",\n",
    "        \"author\":\"J.R.R. Tolkien\",\n",
    "        \"year\":1937,\n",
    "        \"category\":\"Fantasy\",\n",
    "        \"available\":True,\n",
    "        \"rating\":[5,4,5,4,5],\n",
    "    },\n",
    "    {\n",
    "        \"id\":8,\n",
    "        \"title\":\"The Alchemist\",\n",
    "        \"author\":\"Paulo Coelho\",\n",
    "        \"year\":1988,\n",
    "        \"category\":\"Adventure\",\n",
    "        \"available\":True,\n",
    "        \"rating\":[4,5,3,4,5],\n",
    "    }\n",
    "]"
   ]
  },
  {
   "cell_type": "code",
   "execution_count": 108,
   "id": "81089451",
   "metadata": {},
   "outputs": [
    {
     "name": "stdout",
     "output_type": "stream",
     "text": [
      "JSON data written to 'Book888.json'\n"
     ]
    }
   ],
   "source": [
    "with open('Book888.json', 'w') as f: # Open the file in write mode\n",
    "    json.dump(books, f, indent=4) # Write JSON data to the file with indentation for readability\n",
    "print(\"JSON data written to 'Book888.json'\")"
   ]
  },
  {
   "cell_type": "code",
   "execution_count": 109,
   "id": "acc3b337",
   "metadata": {},
   "outputs": [
    {
     "name": "stdout",
     "output_type": "stream",
     "text": [
      "[\n",
      "    {\n",
      "        \"id\": 1,\n",
      "        \"title\": \"The Great Gatsby\",\n",
      "        \"author\": \"F. Scott Fitzgerald\",\n",
      "        \"year\": 1925,\n",
      "        \"category\": \"Fiction\",\n",
      "        \"available\": true,\n",
      "        \"rating\": [\n",
      "            4,\n",
      "            5,\n",
      "            3,\n",
      "            4,\n",
      "            2\n",
      "        ]\n",
      "    },\n",
      "    {\n",
      "        \"id\": 2,\n",
      "        \"title\": \"To Kill a Mockingbird\",\n",
      "        \"author\": \"Harper Lee\",\n",
      "        \"year\": 1960,\n",
      "        \"category\": \"Fiction\",\n",
      "        \"available\": true,\n",
      "        \"rating\": [\n",
      "            5,\n",
      "            4,\n",
      "            5,\n",
      "            2,\n",
      "            5\n",
      "        ]\n",
      "    },\n",
      "    {\n",
      "        \"id\": 3,\n",
      "        \"title\": \"Data Science from Scratch\",\n",
      "        \"author\": \"George Orwell\",\n",
      "        \"year\": 1949,\n",
      "        \"category\": \"Dystopian\",\n",
      "        \"available\": false,\n",
      "        \"rating\": [\n",
      "            5,\n",
      "            2,\n",
      "            4,\n",
      "            5,\n",
      "            5\n",
      "        ]\n",
      "    },\n",
      "    {\n",
      "        \"id\": 4,\n",
      "        \"title\": \"The Catcher in the Rye\",\n",
      "        \"author\": \"J.D. Salinger\",\n",
      "        \"year\": 1951,\n",
      "        \"category\": \"Fiction\",\n",
      "        \"available\": true,\n",
      "        \"rating\": [\n",
      "            3,\n",
      "            4,\n",
      "            2,\n",
      "            5,\n",
      "            4\n",
      "        ]\n",
      "    },\n",
      "    {\n",
      "        \"id\": 5,\n",
      "        \"title\": \"1984\",\n",
      "        \"author\": \"George Orwell\",\n",
      "        \"year\": 1949,\n",
      "        \"category\": \"Dystopian\",\n",
      "        \"available\": false,\n",
      "        \"rating\": [\n",
      "            5,\n",
      "            5,\n",
      "            4,\n",
      "            3,\n",
      "            2\n",
      "        ]\n",
      "    },\n",
      "    {\n",
      "        \"id\": 6,\n",
      "        \"title\": \"Pride and Prejudice\",\n",
      "        \"author\": \"Jane Austen\",\n",
      "        \"year\": 1813,\n",
      "        \"category\": \"Romance\",\n",
      "        \"available\": true,\n",
      "        \"rating\": [\n",
      "            4,\n",
      "            5,\n",
      "            4,\n",
      "            3,\n",
      "            5\n",
      "        ]\n",
      "    },\n",
      "    {\n",
      "        \"id\": 7,\n",
      "        \"title\": \"The Hobbit\",\n",
      "        \"author\": \"J.R.R. Tolkien\",\n",
      "        \"year\": 1937,\n",
      "        \"category\": \"Fantasy\",\n",
      "        \"available\": true,\n",
      "        \"rating\": [\n",
      "            5,\n",
      "            4,\n",
      "            5,\n",
      "            4,\n",
      "            5\n",
      "        ]\n",
      "    },\n",
      "    {\n",
      "        \"id\": 8,\n",
      "        \"title\": \"The Alchemist\",\n",
      "        \"author\": \"Paulo Coelho\",\n",
      "        \"year\": 1988,\n",
      "        \"category\": \"Adventure\",\n",
      "        \"available\": true,\n",
      "        \"rating\": [\n",
      "            4,\n",
      "            5,\n",
      "            3,\n",
      "            4,\n",
      "            5\n",
      "        ]\n",
      "    }\n",
      "]\n"
     ]
    }
   ],
   "source": [
    "# Reading JSON from File\n",
    "with open('Book888.json', 'r') as f:\n",
    "    loaded = json.load(f)\n",
    "print(json.dumps(loaded, indent=4))"
   ]
  },
  {
   "cell_type": "code",
   "execution_count": 110,
   "id": "07033427",
   "metadata": {},
   "outputs": [
    {
     "name": "stdout",
     "output_type": "stream",
     "text": [
      "{'title': 'Asparagus', 'author': 'ThailandOnly', 'year': 2021, 'category': 'Vegetables', 'available': True, 'rating': [1, 2, 3, 4, 2]}\n",
      "\n",
      "Title: Asparagus\n",
      "Author: ThailandOnly\n"
     ]
    }
   ],
   "source": [
    "#transform data to find a book by title\n",
    "json_string ='{\"title\": \"Asparagus\", \"author\": \"ThailandOnly\", \"year\": 2021, \"category\": \"Vegetables\", \"available\": true, \"rating\": [1, 2, 3, 4, 2]}' # Example JSON string\n",
    "\n",
    "book_dict = json.loads(json_string)  # Convert JSON string to Python dictionary\n",
    "print(book_dict)\n",
    "print(f\"\\nTitle: {book_dict['title']}\\nAuthor: {book_dict['author']}\") # Find a book by title"
   ]
  },
  {
   "cell_type": "code",
   "execution_count": 111,
   "id": "4237f3f9",
   "metadata": {},
   "outputs": [
    {
     "name": "stdout",
     "output_type": "stream",
     "text": [
      "Title: Asparagus, \n",
      "Author: ThailandOnly, \n",
      "Price: Unknown Price\n"
     ]
    }
   ],
   "source": [
    "# ...existing code...\n",
    "title = book_dict.get('title', 'Unknown Title')  # Get title with default value\n",
    "author = book_dict.get('author', 'Unknown Author')  # Get author with default value\n",
    "price = book_dict.get('price', 'Unknown Price') # Get price with default value\n",
    "\n",
    "print(f\"Title: {title}, \\nAuthor: {author}, \\nPrice: {price}\")  # Print title, author, and price\n",
    "# ...existing code..."
   ]
  },
  {
   "cell_type": "code",
   "execution_count": 112,
   "id": "0c40ec65",
   "metadata": {},
   "outputs": [
    {
     "name": "stdout",
     "output_type": "stream",
     "text": [
      "Default values : {'title': 'Asparagus', 'author': 'ThailandOnly', 'year': 2021, 'category': 'Vegetables', 'available': True, 'rating': [1, 2, 3, 4, 2]}\n"
     ]
    }
   ],
   "source": [
    "print(\"Default values :\",book_dict)"
   ]
  },
  {
   "cell_type": "code",
   "execution_count": 113,
   "id": "a3e0856e",
   "metadata": {},
   "outputs": [
    {
     "name": "stdout",
     "output_type": "stream",
     "text": [
      "Updated book_dict: {'title': 'Asparagus', 'author': 'ThailandOnly', 'year': 2021, 'category': 'Vegetables', 'available': True, 'rating': [1, 2, 3, 4, 2], 'price': 200, 'page': 300}\n"
     ]
    }
   ],
   "source": [
    "book_dict[\"price\"] = 200 # Add a new key-value pair for price\n",
    "book_dict[\"page\"] = 300 # Add another key-value pair for page count\n",
    "print(f\"Updated book_dict: {book_dict}\")  # Print the updated dictionary with the new price"
   ]
  },
  {
   "cell_type": "code",
   "execution_count": 114,
   "id": "225de54e",
   "metadata": {},
   "outputs": [
    {
     "name": "stdout",
     "output_type": "stream",
     "text": [
      "Page removed from book_dict: {'title': 'Asparagus', 'author': 'ThailandOnly', 'year': 2021, 'category': 'Vegetables', 'available': True, 'rating': [1, 2, 3, 4, 2], 'price': 200}\n"
     ]
    }
   ],
   "source": [
    "book_dict.pop(\"page\")\n",
    "print(\"Page removed from book_dict:\", book_dict)  # Print the dictionary after removing the 'page' key"
   ]
  },
  {
   "cell_type": "code",
   "execution_count": 115,
   "id": "8cb3a628",
   "metadata": {},
   "outputs": [],
   "source": [
    "bad_json = '{\"title\": \"Bad JSON\", \"author\": \"No Quote\"}'  # Missing closing brace}'"
   ]
  },
  {
   "cell_type": "code",
   "execution_count": 116,
   "id": "1a9d4cef",
   "metadata": {},
   "outputs": [
    {
     "name": "stdout",
     "output_type": "stream",
     "text": [
      "{'title': 'Bad JSON', 'author': 'No Quote'}\n"
     ]
    }
   ],
   "source": [
    "try : #ช่วยจัดการข้อผิดพลาด\n",
    "    bad_book_dict = json.loads(bad_json)  # Attempt to load the bad JSON\n",
    "    print(bad_book_dict)\n",
    "except json.JSONDecodeError as e:\n",
    "    print(f\"Error decoding JSON: {e} \\nPlease check the JSON format.\")  # Print error message if JSON is invalid"
   ]
  },
  {
   "cell_type": "code",
   "execution_count": 117,
   "id": "d91eccd9",
   "metadata": {},
   "outputs": [
    {
     "name": "stdout",
     "output_type": "stream",
     "text": [
      "{'id': 7, 'title': 'The Hobbit', 'author': 'J.R.R. Tolkien', 'year': 1937, 'category': 'Fantasy', 'available': True, 'rating': [5, 4, 5, 4, 5]}\n"
     ]
    }
   ],
   "source": [
    "# Find Book by Title (Simulate Query)\n",
    "def find_book_by_title(title: str, books: List[Dict[str, Any]]) -> Dict[str, Any]:\n",
    "    \"\"\"Find a book by its title.\"\"\"\n",
    "    for book in books:\n",
    "        if book['title'].lower() == title.lower():\n",
    "            return book\n",
    "    return {}\n",
    "\n",
    "result = find_book_by_title(\"The Hobbit\", books)\n",
    "print(result)"
   ]
  },
  {
   "cell_type": "code",
   "execution_count": 118,
   "id": "717ff113",
   "metadata": {},
   "outputs": [
    {
     "name": "stdout",
     "output_type": "stream",
     "text": [
      "Available Book: The Great Gatsby by F. Scott Fitzgerald\n",
      "Available Book: To Kill a Mockingbird by Harper Lee\n",
      "Available Book: The Catcher in the Rye by J.D. Salinger\n",
      "Available Book: Pride and Prejudice by Jane Austen\n",
      "Available Book: The Hobbit by J.R.R. Tolkien\n",
      "Available Book: The Alchemist by Paulo Coelho\n"
     ]
    }
   ],
   "source": [
    "# function to get available books\n",
    "\n",
    "def get_available_books(books: List[Dict]) -> List[Dict]: #ใช้ List และ Dict จาก typing เพื่อให้ชัดเจน\n",
    "    return [book for book in books if book['available']] # ใช้ List comprehension เพื่อกรองหนังสือที่มีอยู่ เพื่อให้ได้หนังสือที่มีอยู่ในห้องสมุด\n",
    "\n",
    "\n",
    "# # Get available books\n",
    "sele = get_available_books(books)\n",
    "for book in sele:\n",
    "    print(f\"Available Book: {book['title']} by {book['author']}\")  # คือการแสดงผลหนังสือที่มีอยู่ในห้องสมุด"
   ]
  },
  {
   "cell_type": "code",
   "execution_count": 119,
   "id": "41c0e28a",
   "metadata": {},
   "outputs": [
    {
     "name": "stdout",
     "output_type": "stream",
     "text": [
      "Book published in 1949: Data Science from Scratch by George Orwell\n",
      "Book published in 1949: 1984 by George Orwell\n"
     ]
    }
   ],
   "source": [
    "def filter_books_by_year(year: int, books: List[Dict[str, Any]]) -> List[Dict[str, Any]]:\n",
    "    \"\"\"Filter books by publication year.\"\"\"\n",
    "    return [book for book in books if book['year'] == year]\n",
    "\n",
    "# Example usage of filter_books_by_year\n",
    "year_to_filter = 1949\n",
    "filtered_books = filter_books_by_year(year_to_filter, books)\n",
    "for book in filtered_books:\n",
    "    print(f\"Book published in {year_to_filter}: {book['title']} by {book['author']}\")\n"
   ]
  },
  {
   "cell_type": "code",
   "execution_count": 120,
   "id": "52bc29ce",
   "metadata": {},
   "outputs": [
    {
     "name": "stdout",
     "output_type": "stream",
     "text": [
      "Book 'Carrotmafak' added successfully.\n",
      "Book '9'เล่ม\n"
     ]
    }
   ],
   "source": [
    "\n",
    "#ฟังก์ชั่นสำหรับเพิ่มหนังสือใหม่ลงในห้องสมุด\n",
    "def add_book(book: list[Dict], new_book: Dict) -> bool:\n",
    "    \"\"\"Add a new book to the library.\"\"\"\n",
    "    if not isinstance(new_book, dict): # คือการตรวจสอบว่า new_book เป็น dictionary หรือไม่\n",
    "        print(\"Invalid book format. Must be a dictionary.\")\n",
    "        return False\n",
    "    if 'id' not in new_book or 'title' not in new_book or 'author' not in new_book: # คือการตรวจสอบว่ามีคีย์ 'id', 'title', และ 'author' ใน new_book หรือไม่\n",
    "        print(\"Book must have 'id', 'title', and 'author'.\")\n",
    "        return False\n",
    "    book.append(new_book) # คือการเพิ่ม new_book ลงใน book\n",
    "    return True\n",
    "\n",
    "\n",
    "\n",
    "new_book = {\"id\": 9,\n",
    "    \"title\": \"Carrotmafak\",\n",
    "    \"author\": \"Dormway\",\n",
    "    \"year\": 2023,\n",
    "    \"category\": \"Comedy\",\n",
    "    \"available\": True,\n",
    "    \"rating\": []\n",
    "    }\n",
    "\n",
    "if add_book(books, new_book):\n",
    "    print(f\"Book '{new_book['title']}' added successfully.\")\n",
    "    print(f\"Book '{len(books)}'เล่ม\")\n",
    "\n",
    "else:\n",
    "    print(f\"Book with ID {new_book['id']} already exists. Not added.\")"
   ]
  },
  {
   "cell_type": "code",
   "execution_count": 121,
   "id": "c8b89aa9",
   "metadata": {},
   "outputs": [
    {
     "name": "stdout",
     "output_type": "stream",
     "text": [
      "Book availability updated successfully.\n"
     ]
    }
   ],
   "source": [
    "# ฟังก์ชั่นสำหรับอัพเดตสถานะการมีอยู่ของหนังสือ\n",
    "\n",
    "def update_availability (books: List[Dict], book_id: int,available:bool) -> bool:\n",
    "    for book in books:\n",
    "        if book['id'] == book_id:\n",
    "            book['available'] = available\n",
    "            return True\n",
    "    return False\n",
    "\n",
    "# Example usage of update_availability\n",
    "if update_availability(books, 2, False):\n",
    "    print(\"Book availability updated successfully.\")\n",
    "else:\n",
    "    print(\"Book not found or availability update failed.\")\n"
   ]
  },
  {
   "cell_type": "code",
   "execution_count": 123,
   "id": "464abf4f",
   "metadata": {},
   "outputs": [
    {
     "name": "stdout",
     "output_type": "stream",
     "text": [
      "ไม่พบหนังสือที่ต้องการลบ: Book ID 3 ไม่พบในห้องสมุด\n"
     ]
    }
   ],
   "source": [
    "# ฟังก์ชั่นสำหรับลบหนังสือจากห้องสมุด\n",
    "def delete_book(books: List[Dict], book_id: int) -> bool: # ใช้ List และ Dict จาก typing เพื่อให้ชัดเจน\n",
    "    for i, book in enumerate(books): # enumerate ใช้เพื่อให้ได้ index และ book ในลิสต์\n",
    "        if book['id'] == book_id: # คือการตรวจสอบว่า id ของหนังสือที่ต้องการลบตรงกับ book_id หรือไม่\n",
    "            del books[i]  # Remove the book from the list\n",
    "            return True\n",
    "    return False\n",
    "\n",
    "# Example usage of delete_book\n",
    "\n",
    "book_id_to_delete = 3  # Book ID ที่ต้องการลบ\n",
    "if delete_book(books, book_id_to_delete):\n",
    "    print(f\"ทำการลบสำเร็จแล้ว: Book ID {book_id_to_delete} (เหลือ {len(books)} เล่ม)\")\n",
    "else:\n",
    "    print(f\"ไม่พบหนังสือที่ต้องการลบ: Book ID {book_id_to_delete} ไม่พบในห้องสมุด\")"
   ]
  },
  {
   "cell_type": "code",
   "execution_count": 125,
   "id": "a8fac3d1",
   "metadata": {},
   "outputs": [
    {
     "data": {
      "text/plain": [
       "[{'id': 1,\n",
       "  'title': 'The Great Gatsby',\n",
       "  'author': 'F. Scott Fitzgerald',\n",
       "  'year': 1925,\n",
       "  'category': 'Fiction',\n",
       "  'available': True,\n",
       "  'rating': [4, 5, 3, 4, 2]},\n",
       " {'id': 2,\n",
       "  'title': 'To Kill a Mockingbird',\n",
       "  'author': 'Harper Lee',\n",
       "  'year': 1960,\n",
       "  'category': 'Fiction',\n",
       "  'available': False,\n",
       "  'rating': [5, 4, 5, 2, 5]},\n",
       " {'id': 4,\n",
       "  'title': 'The Catcher in the Rye',\n",
       "  'author': 'J.D. Salinger',\n",
       "  'year': 1951,\n",
       "  'category': 'Fiction',\n",
       "  'available': True,\n",
       "  'rating': [3, 4, 2, 5, 4]},\n",
       " {'id': 5,\n",
       "  'title': '1984',\n",
       "  'author': 'George Orwell',\n",
       "  'year': 1949,\n",
       "  'category': 'Dystopian',\n",
       "  'available': False,\n",
       "  'rating': [5, 5, 4, 3, 2]},\n",
       " {'id': 6,\n",
       "  'title': 'Pride and Prejudice',\n",
       "  'author': 'Jane Austen',\n",
       "  'year': 1813,\n",
       "  'category': 'Romance',\n",
       "  'available': True,\n",
       "  'rating': [4, 5, 4, 3, 5]},\n",
       " {'id': 7,\n",
       "  'title': 'The Hobbit',\n",
       "  'author': 'J.R.R. Tolkien',\n",
       "  'year': 1937,\n",
       "  'category': 'Fantasy',\n",
       "  'available': True,\n",
       "  'rating': [5, 4, 5, 4, 5]},\n",
       " {'id': 8,\n",
       "  'title': 'The Alchemist',\n",
       "  'author': 'Paulo Coelho',\n",
       "  'year': 1988,\n",
       "  'category': 'Adventure',\n",
       "  'available': True,\n",
       "  'rating': [4, 5, 3, 4, 5]},\n",
       " {'id': 9,\n",
       "  'title': 'Carrotmafak',\n",
       "  'author': 'Dormway',\n",
       "  'year': 2023,\n",
       "  'category': 'Comedy',\n",
       "  'available': True,\n",
       "  'rating': []}]"
      ]
     },
     "execution_count": 125,
     "metadata": {},
     "output_type": "execute_result"
    }
   ],
   "source": [
    "books"
   ]
  }
 ],
 "metadata": {
  "kernelspec": {
   "display_name": "Python 3",
   "language": "python",
   "name": "python3"
  },
  "language_info": {
   "codemirror_mode": {
    "name": "ipython",
    "version": 3
   },
   "file_extension": ".py",
   "mimetype": "text/x-python",
   "name": "python",
   "nbconvert_exporter": "python",
   "pygments_lexer": "ipython3",
   "version": "3.11.9"
  }
 },
 "nbformat": 4,
 "nbformat_minor": 5
}
