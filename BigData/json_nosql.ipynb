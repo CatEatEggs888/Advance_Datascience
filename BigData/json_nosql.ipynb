{
 "cells": [
  {
   "cell_type": "markdown",
   "id": "4105a580",
   "metadata": {
    "id": "4105a580"
   },
   "source": [
    "# JSON Handling and NoSQL Simulation in Python\n",
    "\n",
    "\n",
    "This notebook is designed to teach both JSON basics and simulate NoSQL-style operations using Python.\n",
    "\n",
    "---\n",
    "\n",
    "What you'll learn:\n",
    "- How to read and write JSON files\n",
    "- How to serialize and deserialize JSON strings\n",
    "- How to work with nested JSON structures\n",
    "- How to simulate NoSQL document-based CRUD operations using Python lists and dicts\n",
    "- How to handle malformed JSON\n",
    "- How to print JSON in readable (pretty) and compact forms\n",
    "- How to search, sort, and filter nested data\n",
    "- How to generate dynamic IDs and compute aggregates\n",
    "\n",
    "All of this reflects the structure of a NoSQL database."
   ]
  },
  {
   "cell_type": "markdown",
   "id": "cNlxsNwnCfjc",
   "metadata": {
    "id": "cNlxsNwnCfjc"
   },
   "source": [
    "\n",
    "#JSON vs SQL\n",
    "\n",
    "\n",
    "```\n",
    "#JSON Document (used in NoSQL)\n",
    "{\n",
    "  \"id\": 1,\n",
    "  \"name\": \"Alice\",\n",
    "  \"age\": 22,\n",
    "  \"grades\": {\n",
    "    \"math\": 90,\n",
    "    \"science\": 85\n",
    "  },\n",
    "  \"enrolled\": true\n",
    "}\n",
    "```\n",
    "\n",
    "```\n",
    "#Equivalent SQL Tables\n",
    "\n",
    "CREATE TABLE students (\n",
    "    id INT PRIMARY KEY,\n",
    "    name VARCHAR(100),\n",
    "    age INT,\n",
    "    enrolled BOOLEAN\n",
    ");\n",
    "\n",
    "CREATE TABLE grades (\n",
    "    student_id INT,\n",
    "    subject VARCHAR(50),\n",
    "    score INT,\n",
    "    FOREIGN KEY (student_id) REFERENCES students(id)\n",
    ");\n",
    "\n",
    "-- Insert data\n",
    "INSERT INTO students VALUES (1, 'Alice', 22, TRUE);\n",
    "INSERT INTO grades VALUES (1, 'math', 90);\n",
    "INSERT INTO grades VALUES (1, 'science', 85);\n",
    "\n",
    "-- Query Alice\n",
    "SELECT * FROM students WHERE name = 'Alice';\n",
    "\n",
    "-- Get Alice's grades\n",
    "SELECT subject, score FROM grades WHERE student_id = 1;\n",
    "```\n"
   ]
  },
  {
   "cell_type": "code",
   "execution_count": 1,
   "id": "iLEe4JBNAbYM",
   "metadata": {
    "id": "iLEe4JBNAbYM"
   },
   "outputs": [],
   "source": [
    "import json\n",
    "from typing import List, Dict, Any"
   ]
  },
  {
   "cell_type": "code",
   "execution_count": 2,
   "id": "nUpPjd22AlCe",
   "metadata": {
    "id": "nUpPjd22AlCe"
   },
   "outputs": [],
   "source": [
    "# Sample JSON Data (List of Students) มีคีย์ทั้งหมด 7 ตัว\n",
    "data = [\n",
    "    {\"id\": 1, \"name\": \"Alice\", \"age\": 22, \"grades\": {\"math\": 90, \"science\": 85}, \"enrolled\": True},\n",
    "    {\"id\": 2, \"name\": \"Bob\", \"age\": 20, \"grades\": {\"math\": 70, \"science\": 75}, \"enrolled\": False},\n",
    "    {\"id\": 3, \"name\": \"Charlie\", \"age\": 23, \"grades\": {\"math\": 88, \"science\": 92}, \"enrolled\": True}\n",
    "]"
   ]
  },
  {
   "cell_type": "code",
   "execution_count": 3,
   "id": "22616000",
   "metadata": {},
   "outputs": [
    {
     "name": "stdout",
     "output_type": "stream",
     "text": [
      "[{'id': 1, 'name': 'Alice', 'age': 22, 'grades': {'math': 90, 'science': 85}, 'enrolled': True}, {'id': 2, 'name': 'Bob', 'age': 20, 'grades': {'math': 70, 'science': 75}, 'enrolled': False}, {'id': 3, 'name': 'Charlie', 'age': 23, 'grades': {'math': 88, 'science': 92}, 'enrolled': True}]\n"
     ]
    }
   ],
   "source": [
    "print(data)"
   ]
  },
  {
   "cell_type": "code",
   "execution_count": null,
   "id": "2uojvN_3AfyK",
   "metadata": {
    "colab": {
     "base_uri": "https://localhost:8080/"
    },
    "executionInfo": {
     "elapsed": 48,
     "status": "ok",
     "timestamp": 1752330843968,
     "user": {
      "displayName": "Kunjira Kingphai",
      "userId": "10851108113379732662"
     },
     "user_tz": -60
    },
    "id": "2uojvN_3AfyK",
    "outputId": "386a7b18-2095-4b50-c0d5-c66772d91dcd"
   },
   "outputs": [
    {
     "name": "stdout",
     "output_type": "stream",
     "text": [
      "JSON data written to 'students.json'\n"
     ]
    }
   ],
   "source": [
    "# Writing JSON to File  students.json ใส่ path ที่ต้องการ\n",
    "with open('students.json', 'w') as f: # Open the file in write mode\n",
    "    json.dump(data, f, indent=4) # Write JSON data to the file with indentation for readability\n",
    "print(\"JSON data written to 'students.json'\")"
   ]
  },
  {
   "cell_type": "markdown",
   "id": "hAIsFmpnJWiS",
   "metadata": {
    "id": "hAIsFmpnJWiS"
   },
   "source": [
    "line 1 >> with open('students.json', 'w') as f:\n",
    "\n",
    "  - เปิดไฟล์ชื่อ students.json ในโหมดเขียน ('w')\n",
    "\n",
    "  - ใช้ with เพื่อให้ระบบจัดการเปิด–ปิดไฟล์ให้อัตโนมัติอย่างปลอดภัย\n",
    "\n",
    "line 2 >> json.dump(data, f, indent=4)\n",
    "\n",
    "  - เขียนข้อมูลจากตัวแปร data ลงในไฟล์ students.json ในรูปแบบ JSON\n",
    "\n",
    "  - ใช้ indent=4 เพื่อจัดรูปแบบให้อ่านง่าย (เว้นวรรค 4 ช่องในแต่ละระดับ)\n",
    "\n",
    "line 3 >> print(\"JSON data written to 'students.json'\")\n",
    "\n",
    "  - แสดงข้อความแจ้งเตือนว่าการเขียนไฟล์เสร็จสิ้นแล้ว\n"
   ]
  },
  {
   "cell_type": "code",
   "execution_count": 15,
   "id": "GK3O7aCgAiEn",
   "metadata": {
    "colab": {
     "base_uri": "https://localhost:8080/"
    },
    "executionInfo": {
     "elapsed": 22,
     "status": "ok",
     "timestamp": 1752330847123,
     "user": {
      "displayName": "Kunjira Kingphai",
      "userId": "10851108113379732662"
     },
     "user_tz": -60
    },
    "id": "GK3O7aCgAiEn",
    "outputId": "0032669d-e60f-4bb6-c7f6-40ce34fe92cd"
   },
   "outputs": [
    {
     "name": "stdout",
     "output_type": "stream",
     "text": [
      "[\n",
      "    {\n",
      "        \"id\": 1,\n",
      "        \"name\": \"Alice\",\n",
      "        \"age\": 22,\n",
      "        \"grades\": {\n",
      "            \"math\": 90,\n",
      "            \"science\": 85\n",
      "        },\n",
      "        \"enrolled\": true\n",
      "    },\n",
      "    {\n",
      "        \"id\": 2,\n",
      "        \"name\": \"Bob\",\n",
      "        \"age\": 20,\n",
      "        \"grades\": {\n",
      "            \"math\": 70,\n",
      "            \"science\": 75\n",
      "        },\n",
      "        \"enrolled\": false\n",
      "    },\n",
      "    {\n",
      "        \"id\": 3,\n",
      "        \"name\": \"Charlie\",\n",
      "        \"age\": 23,\n",
      "        \"grades\": {\n",
      "            \"math\": 88,\n",
      "            \"science\": 92\n",
      "        },\n",
      "        \"enrolled\": true\n",
      "    }\n",
      "]\n"
     ]
    }
   ],
   "source": [
    "# Reading JSON from File\n",
    "with open('students.json', 'r') as f:\n",
    "    loaded = json.load(f)\n",
    "print(json.dumps(loaded, indent=4))"
   ]
  },
  {
   "cell_type": "markdown",
   "id": "gfIZ2WG2KEHf",
   "metadata": {
    "id": "gfIZ2WG2KEHf"
   },
   "source": [
    "line 1 >> with open('students.json', 'r') as f:\n",
    "  - เปิดไฟล์ชื่อ students.json ในโหมดอ่าน ('r')\n",
    "  - ใช้ with เพื่อให้ระบบจัดการเปิด–ปิดไฟล์ให้อัตโนมัติอย่างปลอดภัย\n",
    "\n",
    "line 2 >> loaded = json.load(f)\n",
    "  - โหลดข้อมูล JSON จากไฟล์และเก็บไว้ในตัวแปร loaded\n",
    "  - ข้อมูลที่ได้จะอยู่ในรูปแบบของ Python object (เช่น dict หรือ list)\n",
    "\n",
    "line 3 >> print(json.dumps(loaded, indent=4))\n",
    "  - แสดงข้อมูล JSON ที่โหลดมาในรูปแบบที่จัดระเบียบให้อ่านง่ายด้วยการเว้นวรรค 4 ช่อง"
   ]
  },
  {
   "cell_type": "code",
   "execution_count": null,
   "id": "_nJ_qSeyAvKp",
   "metadata": {
    "colab": {
     "base_uri": "https://localhost:8080/"
    },
    "executionInfo": {
     "elapsed": 48,
     "status": "ok",
     "timestamp": 1752330855920,
     "user": {
      "displayName": "Kunjira Kingphai",
      "userId": "10851108113379732662"
     },
     "user_tz": -60
    },
    "id": "_nJ_qSeyAvKp",
    "outputId": "687d63e4-7a3e-4864-9c0b-d94ee75981cf"
   },
   "outputs": [
    {
     "name": "stdout",
     "output_type": "stream",
     "text": [
      "{'id': 1, 'name': 'Alice', 'age': 22, 'grades': {'math': 90, 'science': 85}, 'enrolled': True}\n"
     ]
    }
   ],
   "source": [
    "# Find Student by Name (Simulate Query)\n",
    "def find_student_by_name(data: List[Dict[str, Any]], name: str) -> Dict[str, Any]: # Function to find a student by name\n",
    "    return next((student for student in data if student['name'] == name), {})\n",
    "print(find_student_by_name(loaded, \"Alice\"))"
   ]
  },
  {
   "cell_type": "markdown",
   "id": "wr29BBxYKPGt",
   "metadata": {
    "id": "wr29BBxYKPGt"
   },
   "source": [
    "line1 >> สร้างฟังก์ชัน find_student_by_name โดยรับพารามิเตอร์:\n",
    "  - data: รายชื่อนักเรียนทั้งหมดในรูปแบบ List ของ Dictionary\n",
    "  - name: ชื่อนักเรียนที่ต้องการค้นหา\n",
    "  - ฟังก์ชันจะส่งคืน dictionary ของนักเรียนที่ตรงกับชื่อ หรือ {} ถ้าไม่พบ\n",
    "\n",
    "line2 >> return next((student for student in data if student['name'] == name), {})\n",
    "- ใช้ next() เพื่อวนหานักเรียนคนแรกที่มีชื่อเท่ากับ name\n",
    "ถ้าไม่เจอจะคืนค่า default เป็น {}\n",
    "(จำลองการ query แบบในฐานข้อมูล)\n",
    "\n",
    "line 3 >> print(find_student_by_name(loaded, \"Alice\"))\n",
    "เรียกใช้ฟังก์ชันและพิมพ์ผลลัพธ์จากการค้นหาชื่อนักเรียน \"Alice\""
   ]
  },
  {
   "cell_type": "code",
   "execution_count": 17,
   "id": "AiNJZoO5A9lE",
   "metadata": {
    "colab": {
     "base_uri": "https://localhost:8080/"
    },
    "executionInfo": {
     "elapsed": 24,
     "status": "ok",
     "timestamp": 1752330859777,
     "user": {
      "displayName": "Kunjira Kingphai",
      "userId": "10851108113379732662"
     },
     "user_tz": -60
    },
    "id": "AiNJZoO5A9lE",
    "outputId": "b163e36f-4027-410c-d32e-080f234e495b"
   },
   "outputs": [
    {
     "name": "stdout",
     "output_type": "stream",
     "text": [
      "{'id': 1, 'name': 'Alice', 'age': 22, 'grades': {'math': 95, 'science': 85}, 'enrolled': True}\n"
     ]
    }
   ],
   "source": [
    "# Update Grade (Simulate Update Operation)\n",
    "def update_grade(data: List[Dict[str, Any]], student_id: int, subject: str, new_grade: int) -> bool:\n",
    "    for student in data:\n",
    "        if student['id'] == student_id:\n",
    "            student['grades'][subject] = new_grade\n",
    "            return True\n",
    "    return False\n",
    "update_grade(loaded, 1, \"math\", 95)\n",
    "print(find_student_by_name(loaded, \"Alice\"))"
   ]
  },
  {
   "cell_type": "markdown",
   "id": "ONqt0BhkKRuq",
   "metadata": {
    "id": "ONqt0BhkKRuq"
   },
   "source": [
    "line 1 >> def update_grade(data: List[Dict[str, Any]], student_id: int, subject: str, new_grade: int) -> bool:\n",
    "  - นิยามฟังก์ชันสำหรับอัปเดตเกรดของนักเรียนตามรหัส (student_id) และวิชา (subject)\n",
    "ฟังก์ชันนี้จะส่งคืน\n",
    "  - True ถ้าอัปเดตสำเร็จ และ False ถ้าไม่พบรหัสนักเรียน\n",
    "\n",
    "line2 >> for student in data:\n",
    "  - วนลูปเช็กนักเรียนทีละคนใน data\n",
    "\n",
    "line 3 >> if student['id'] == student_id:\n",
    "  - ตรวจสอบว่ารหัสนักเรียนตรงกับที่ต้องการอัปเดตหรือไม่\n",
    "\n",
    "line 4 >> student['grades'][subject] = new_grade\n",
    "  - ทำการอัปเดตเกรดของวิชานั้นให้เป็นค่าใหม่ (new_grade)\n",
    "\n",
    "line 5 >> return True\n",
    "  - ส่งคืน True เมื่ออัปเดตเสร็จแล้ว\n",
    "\n",
    "line 6 >> return False\n",
    "  - ถ้าไม่พบ student_id ใดเลยในข้อมูล จะส่งคืน False\n",
    "\n",
    "line 7 >> update_grade(loaded, 1, \"math\", 95)\n",
    "  - เรียกใช้งานฟังก์ชันเพื่ออัปเดตเกรดวิชา math ของนักเรียนที่มี id = 1 ให้เป็น 95\n",
    "\n",
    "line 8 >> print(find_student_by_name(loaded, \"Alice\"))\n",
    "  - แสดงข้อมูลของนักเรียน \"Alice\" หลังจากการอัปเดต เพื่อดูผลลัพธ์ว่าเปลี่ยนเกรดแล้วหรือไม่"
   ]
  },
  {
   "cell_type": "code",
   "execution_count": 18,
   "id": "WdlbiLboA8v7",
   "metadata": {
    "colab": {
     "base_uri": "https://localhost:8080/"
    },
    "executionInfo": {
     "elapsed": 36,
     "status": "ok",
     "timestamp": 1752330863715,
     "user": {
      "displayName": "Kunjira Kingphai",
      "userId": "10851108113379732662"
     },
     "user_tz": -60
    },
    "id": "WdlbiLboA8v7",
    "outputId": "d678042b-15ec-4e5c-8205-2445e61e4334"
   },
   "outputs": [
    {
     "name": "stdout",
     "output_type": "stream",
     "text": [
      "Error parsing JSON: Expecting property name enclosed in double quotes: line 1 column 19 (char 18)\n"
     ]
    }
   ],
   "source": [
    "# Exception Handling (Malformed JSON) ดักจับข้อผิดพลาดเมื่อ JSON ไม่ถูกต้อง\n",
    "try:\n",
    "    json.loads('{\"name\": \"Alice\", age: 22}')\n",
    "except json.JSONDecodeError as e:\n",
    "    print(\"Error parsing JSON:\",e)\n"
   ]
  },
  {
   "cell_type": "markdown",
   "id": "DWaS3mRgKXIz",
   "metadata": {
    "id": "DWaS3mRgKXIz"
   },
   "source": [
    "line 1 >> try:\n",
    "  - เริ่มต้นบล็อก try เพื่อจับข้อผิดพลาดที่อาจเกิดขึ้นจากการแปลงข้อความ JSON\n",
    "\n",
    "line 2 >> json.loads('{\"name\": \"Alice\", age: 22}')\n",
    "  - พยายามโหลดข้อมูลจากสตริง JSON ที่มีโครงสร้างผิด (ลืมใส่เครื่องหมายคำพูดรอบ \"age\")\n",
    "\n",
    "line 3 >> except json.JSONDecodeError as e:\n",
    "  - จับข้อผิดพลาดประเภท JSONDecodeError ซึ่งเกิดขึ้นเมื่อ JSON ไม่ถูกต้องตามไวยากรณ์\n",
    "\n",
    "line 4 >> print(\"Error parsing JSON:\", e)\n",
    "แสดงข้อความแจ้งเตือนและรายละเอียดของข้อผิดพลาด"
   ]
  },
  {
   "cell_type": "code",
   "execution_count": 19,
   "id": "pn_RuQ99A7Mc",
   "metadata": {
    "colab": {
     "base_uri": "https://localhost:8080/"
    },
    "executionInfo": {
     "elapsed": 18,
     "status": "ok",
     "timestamp": 1752330867365,
     "user": {
      "displayName": "Kunjira Kingphai",
      "userId": "10851108113379732662"
     },
     "user_tz": -60
    },
    "id": "pn_RuQ99A7Mc",
    "outputId": "a4cb3df3-c660-4a6c-c9a0-f5f73b25b962"
   },
   "outputs": [
    {
     "name": "stdout",
     "output_type": "stream",
     "text": [
      "[\n",
      "    {\n",
      "        \"id\": 1,\n",
      "        \"name\": \"Alice\",\n",
      "        \"age\": 22,\n",
      "        \"grades\": {\n",
      "            \"math\": 95,\n",
      "            \"science\": 85\n",
      "        },\n",
      "        \"enrolled\": true\n",
      "    },\n",
      "    {\n",
      "        \"id\": 2,\n",
      "        \"name\": \"Bob\",\n",
      "        \"age\": 20,\n",
      "        \"grades\": {\n",
      "            \"math\": 70,\n",
      "            \"science\": 75\n",
      "        },\n",
      "        \"enrolled\": false\n",
      "    },\n",
      "    {\n",
      "        \"id\": 3,\n",
      "        \"name\": \"Charlie\",\n",
      "        \"age\": 23,\n",
      "        \"grades\": {\n",
      "            \"math\": 88,\n",
      "            \"science\": 92\n",
      "        },\n",
      "        \"enrolled\": true\n",
      "    },\n",
      "    {\n",
      "        \"id\": 4,\n",
      "        \"name\": \"Diana\",\n",
      "        \"age\": 21,\n",
      "        \"grades\": {\n",
      "            \"math\": 82,\n",
      "            \"science\": 78\n",
      "        },\n",
      "        \"enrolled\": true\n",
      "    }\n",
      "]\n"
     ]
    }
   ],
   "source": [
    "# Add Student (Simulate Create Operation)\n",
    "def add_student(data: List[Dict[str, Any]], new_student: Dict[str, Any]) -> bool:\n",
    "    if any(s['id'] == new_student['id'] for s in data):\n",
    "        return False\n",
    "    data.append(new_student)\n",
    "    return True\n",
    "add_student(loaded, {\n",
    "    \"id\": 4,\n",
    "    \"name\": \"Diana\",\n",
    "    \"age\": 21,\n",
    "    \"grades\": {\"math\": 82, \"science\": 78},\n",
    "    \"enrolled\": True\n",
    "})\n",
    "print(json.dumps(loaded, indent=4))"
   ]
  },
  {
   "cell_type": "markdown",
   "id": "CAfxqdMHKcsc",
   "metadata": {
    "id": "CAfxqdMHKcsc"
   },
   "source": [
    "line 1 >> def add_student(data: List[Dict[str, Any]], new_student: Dict[str, Any]) -> bool:\n",
    "  - นิยามฟังก์ชันสำหรับเพิ่มนักเรียนใหม่เข้าไปในรายการข้อมูล (data)\n",
    "  - ฟังก์ชันนี้รับพารามิเตอร์เป็น list ของ dictionary (data) และ dictionary นักเรียนใหม่ (new_student)\n",
    "\n",
    "line 2 >> if any(s['id'] == new_student['id'] for s in data):\n",
    "  - ตรวจสอบว่ามี id ซ้ำอยู่ในข้อมูลหรือไม่ หากมีจะไม่เพิ่มและคืนค่า False\n",
    "\n",
    "line 4 >> data.append(new_student)\n",
    "  - เพิ่มข้อมูล new_student เข้าไปใน list data\n",
    "\n",
    "line 5 >> return True\n",
    "  - ส่งคืน True เพื่อบอกว่าเพิ่มข้อมูลสำเร็จ\n",
    "\n",
    "line 6 >> add_student(loaded, {...})\n",
    "  - เพิ่มข้อมูลนักเรียนชื่อ \"Diana\" ที่มี id = 4 พร้อมข้อมูลอายุ เกรด และสถานะการลงทะเบียน\n",
    "\n",
    "line 7 >> print(json.dumps(loaded, indent=4))\n",
    "  - แสดงข้อมูลทั้งหมดที่อยู่ในตัวแปร loaded (รวมทั้งนักเรียนที่เพิ่งเพิ่มเข้าไป) ในรูปแบบ JSON ที่จัดระเบียบแล้ว"
   ]
  },
  {
   "cell_type": "code",
   "execution_count": 20,
   "id": "u0HK7zy2A5zH",
   "metadata": {
    "colab": {
     "base_uri": "https://localhost:8080/"
    },
    "executionInfo": {
     "elapsed": 49,
     "status": "ok",
     "timestamp": 1752330877469,
     "user": {
      "displayName": "Kunjira Kingphai",
      "userId": "10851108113379732662"
     },
     "user_tz": -60
    },
    "id": "u0HK7zy2A5zH",
    "outputId": "43799102-b0a1-4ec7-bc75-79cd90d25847"
   },
   "outputs": [
    {
     "name": "stdout",
     "output_type": "stream",
     "text": [
      "[\n",
      "    {\n",
      "        \"id\": 1,\n",
      "        \"name\": \"Alice\",\n",
      "        \"age\": 22,\n",
      "        \"grades\": {\n",
      "            \"math\": 95,\n",
      "            \"science\": 85\n",
      "        },\n",
      "        \"enrolled\": true\n",
      "    },\n",
      "    {\n",
      "        \"id\": 3,\n",
      "        \"name\": \"Charlie\",\n",
      "        \"age\": 23,\n",
      "        \"grades\": {\n",
      "            \"math\": 88,\n",
      "            \"science\": 92\n",
      "        },\n",
      "        \"enrolled\": true\n",
      "    },\n",
      "    {\n",
      "        \"id\": 4,\n",
      "        \"name\": \"Diana\",\n",
      "        \"age\": 21,\n",
      "        \"grades\": {\n",
      "            \"math\": 82,\n",
      "            \"science\": 78\n",
      "        },\n",
      "        \"enrolled\": true\n",
      "    }\n",
      "]\n"
     ]
    }
   ],
   "source": [
    "# Delete Student by ID (Simulate Delete Operation)\n",
    "def delete_student(data: List[Dict[str, Any]], student_id: int) -> bool:\n",
    "    for i, student in enumerate(data):\n",
    "        if student['id'] == student_id:\n",
    "            del data[i]\n",
    "            return True\n",
    "    return False\n",
    "delete_student(loaded, 2)\n",
    "print(json.dumps(loaded, indent=4))"
   ]
  },
  {
   "cell_type": "markdown",
   "id": "Ee5FcjVqKjty",
   "metadata": {
    "id": "Ee5FcjVqKjty"
   },
   "source": [
    "line 1 >> def delete_student(data: List[Dict[str, Any]], student_id: int) -> bool:\n",
    "  - นิยามฟังก์ชันสำหรับลบนักเรียนจากรายการข้อมูลโดยใช้รหัสประจำตัว (student_id)\n",
    "  - ฟังก์ชันจะส่งคืน True หากลบสำเร็จ และ False หากไม่พบรหัสนั้นในข้อมูล\n",
    "\n",
    "line 2 >> for i, student in enumerate(data):\n",
    "  - วนลูปในรายการ data พร้อมใช้ enumerate() เพื่อให้ได้ทั้ง index (i) และข้อมูลนักเรียน (student)\n",
    "\n",
    "line 3 >> if student['id'] == student_id:\n",
    "  - ตรวจสอบว่า id ของนักเรียนตรงกับ student_id หรือไม่\n",
    "\n",
    "line 4 >> del data[i]\n",
    "- ลบรายการข้อมูลที่ตรงกับรหัสนั้นออกจาก list\n",
    "\n",
    "line 5 >> return True\n",
    "  - ส่งคืน True เพื่อบอกว่าลบข้อมูลสำเร็จ\n",
    "\n",
    "line 6 >> return False\n",
    "  - หากวนจนครบและไม่พบ id ที่ตรงกัน จะส่งคืน False\n",
    "\n",
    "line 7 >> delete_student(loaded, 2)\n",
    "  - เรียกใช้งานฟังก์ชันเพื่อลบนักเรียนที่มี id = 2\n",
    "\n",
    "line 8 >> print(json.dumps(loaded, indent=4))\n",
    "  - แสดงข้อมูลทั้งหมดหลังการลบในรูปแบบ JSON ที่อ่านง่าย"
   ]
  },
  {
   "cell_type": "code",
   "execution_count": 21,
   "id": "ZrCZJ3S8A4cZ",
   "metadata": {
    "colab": {
     "base_uri": "https://localhost:8080/"
    },
    "executionInfo": {
     "elapsed": 47,
     "status": "ok",
     "timestamp": 1752330886496,
     "user": {
      "displayName": "Kunjira Kingphai",
      "userId": "10851108113379732662"
     },
     "user_tz": -60
    },
    "id": "ZrCZJ3S8A4cZ",
    "outputId": "8c7800d9-2884-43da-9cca-f51a768d8dcc"
   },
   "outputs": [
    {
     "name": "stdout",
     "output_type": "stream",
     "text": [
      "[{'id': 1, 'name': 'Alice', 'age': 22, 'grades': {'math': 95, 'science': 85}, 'enrolled': True}, {'id': 3, 'name': 'Charlie', 'age': 23, 'grades': {'math': 88, 'science': 92}, 'enrolled': True}, {'id': 4, 'name': 'Diana', 'age': 21, 'grades': {'math': 82, 'science': 78}, 'enrolled': True}]\n"
     ]
    }
   ],
   "source": [
    "# Filter Enrolled Students เป็นฟังก์ชันที่กรองนักเรียนที่ลงทะเบียนเรียน\n",
    "def get_enrolled_students(data: List[Dict[str, Any]]) -> List[Dict[str, Any]]: # ฟังก์ชันนี้จะคืนค่ารายชื่อนักเรียนที่ลงทะเบียนเรียน\n",
    "    return [s for s in data if s['enrolled']] # วนลูปผ่านนักเรียนแต่ละคนและเก็บนักเรียนที่ลงทะเบียนเรียนไว้\n",
    "print(get_enrolled_students(loaded))\n"
   ]
  },
  {
   "cell_type": "markdown",
   "id": "785po4LaKr2c",
   "metadata": {
    "id": "785po4LaKr2c"
   },
   "source": [
    "line 1 >> def get_enrolled_students(data: List[Dict[str, Any]]) -> List[Dict[str, Any]]:\n",
    "  - นิยามฟังก์ชันเพื่อกรองนักเรียนที่มีสถานะ enrolled เป็น True\n",
    "  - ส่งคืนเป็น list ของ dictionary ที่ผ่านเงื่อนไข\n",
    "\n",
    "line 2 >> return [s for s in data if s['enrolled']]\n",
    "  - ใช้ list comprehension เพื่อคัดเลือกเฉพาะนักเรียนที่ลงทะเบียนแล้ว (เช็คว่า s['enrolled'] == True)\n",
    "\n",
    "line 3 >> print(get_enrolled_students(loaded))\n",
    "  - แสดงรายการนักเรียนที่ลงทะเบียนอยู่ในปัจจุบันจากตัวแปร loaded"
   ]
  },
  {
   "cell_type": "code",
   "execution_count": 22,
   "id": "mWSS_iJiA3Ni",
   "metadata": {
    "colab": {
     "base_uri": "https://localhost:8080/"
    },
    "executionInfo": {
     "elapsed": 32,
     "status": "ok",
     "timestamp": 1752330888389,
     "user": {
      "displayName": "Kunjira Kingphai",
      "userId": "10851108113379732662"
     },
     "user_tz": -60
    },
    "id": "mWSS_iJiA3Ni",
    "outputId": "04096548-af04-452c-c1c2-186f386dd81e"
   },
   "outputs": [
    {
     "name": "stdout",
     "output_type": "stream",
     "text": [
      "Pretty JSON:\n",
      "[\n",
      "    {\n",
      "        \"age\": 22,\n",
      "        \"enrolled\": true,\n",
      "        \"grades\": {\n",
      "            \"math\": 95,\n",
      "            \"science\": 85\n",
      "        },\n",
      "        \"id\": 1,\n",
      "        \"name\": \"Alice\"\n",
      "    },\n",
      "    {\n",
      "        \"age\": 23,\n",
      "        \"enrolled\": true,\n",
      "        \"grades\": {\n",
      "            \"math\": 88,\n",
      "            \"science\": 92\n",
      "        },\n",
      "        \"id\": 3,\n",
      "        \"name\": \"Charlie\"\n",
      "    },\n",
      "    {\n",
      "        \"age\": 21,\n",
      "        \"enrolled\": true,\n",
      "        \"grades\": {\n",
      "            \"math\": 82,\n",
      "            \"science\": 78\n",
      "        },\n",
      "        \"id\": 4,\n",
      "        \"name\": \"Diana\"\n",
      "    }\n",
      "]\n",
      "\n",
      "Compact JSON:\n",
      "[{\"id\":1,\"name\":\"Alice\",\"age\":22,\"grades\":{\"math\":95,\"science\":85},\"enrolled\":true},{\"id\":3,\"name\":\"Charlie\",\"age\":23,\"grades\":{\"math\":88,\"science\":92},\"enrolled\":true},{\"id\":4,\"name\":\"Diana\",\"age\":21,\"grades\":{\"math\":82,\"science\":78},\"enrolled\":true}]\n"
     ]
    }
   ],
   "source": [
    "# Serialize to Pretty and Compact JSON เป็นการแสดงผล JSON ในรูปแบบที่อ่านง่ายและกระชับ\n",
    "pretty = json.dumps(loaded, indent=4, sort_keys=True) # Pretty JSON with indentation and sorted keys คือ JSON ที่มีการจัดรูปแบบให้อ่านง่าย\n",
    "compact = json.dumps(loaded, separators=(',', ':')) # Compact JSON without spaces คือ JSON ที่ไม่มีช่องว่าง\n",
    "print(\"Pretty JSON:\")\n",
    "print(pretty)\n",
    "print(\"\\nCompact JSON:\")\n",
    "print(compact)\n"
   ]
  },
  {
   "cell_type": "markdown",
   "id": "TCEdmd5NLfLq",
   "metadata": {
    "id": "TCEdmd5NLfLq"
   },
   "source": [
    "line 1 >> pretty = json.dumps(loaded, indent=4, sort_keys=True)\n",
    "  - แปลงข้อมูลใน loaded ให้อยู่ในรูปแบบ JSON ที่อ่านง่าย (Pretty JSON)\n",
    "  - indent=4 เพิ่มการเยื้อง 4 ช่องในแต่ละระดับ เพื่อให้อ่านง่าย\n",
    "  - sort_keys=True จัดเรียง key ใน dictionary ตามลำดับตัวอักษร\n",
    "\n",
    "line 2 >> compact = json.dumps(loaded, separators=(',', ':'))\n",
    "  - แปลงข้อมูลใน loaded ให้อยู่ในรูปแบบ JSON ที่กะทัดรัด (ไม่มีช่องว่าง)\n",
    "  - separators=(',', ':') กำหนดให้ไม่มีช่องว่างหลังเครื่องหมายคอมมา (,) และโคลอน (:)\n"
   ]
  },
  {
   "cell_type": "code",
   "execution_count": null,
   "id": "yuNkDwwvA2OS",
   "metadata": {
    "colab": {
     "base_uri": "https://localhost:8080/"
    },
    "executionInfo": {
     "elapsed": 18,
     "status": "ok",
     "timestamp": 1752330891837,
     "user": {
      "displayName": "Kunjira Kingphai",
      "userId": "10851108113379732662"
     },
     "user_tz": -60
    },
    "id": "yuNkDwwvA2OS",
    "outputId": "ffae8382-ab28-4123-c202-a1e8f771b848"
   },
   "outputs": [
    {
     "name": "stdout",
     "output_type": "stream",
     "text": [
      "{'name': 'Eva', 'age': 24}\n"
     ]
    }
   ],
   "source": [
    "# Deserialize from JSON String คือการแปลง JSON String เป็น Python Dictionary\n",
    "json_string = '{\"name\": \"Eva\", \"age\": 24}'\n",
    "eva = json.loads(json_string)\n",
    "print(eva)"
   ]
  },
  {
   "cell_type": "markdown",
   "id": "C6uoWY_OLgLP",
   "metadata": {
    "id": "C6uoWY_OLgLP"
   },
   "source": [
    "line 1 >> json_string = '{\"name\": \"Eva\", \"age\": 24}'\n",
    "  - กำหนดสตริงที่อยู่ในรูปแบบ JSON ซึ่งแทนข้อมูลของบุคคลคนหนึ่ง\n",
    "\n",
    "line 2 >> eva = json.loads(json_string)\n",
    "  - ใช้ฟังก์ชัน json.loads() เพื่อแปลงข้อความ JSON ให้กลายเป็น Python object\n",
    "  - ผลลัพธ์คือ dictionary: {'name': 'Eva', 'age': 24}\n",
    "\n",
    "line 3 >> print(eva)\n",
    "  - แสดงผลลัพธ์หลังจากแปลง JSON เป็น dictionary"
   ]
  },
  {
   "cell_type": "code",
   "execution_count": 18,
   "id": "YKhuCNNwA1Sy",
   "metadata": {
    "colab": {
     "base_uri": "https://localhost:8080/"
    },
    "executionInfo": {
     "elapsed": 23,
     "status": "ok",
     "timestamp": 1752330893877,
     "user": {
      "displayName": "Kunjira Kingphai",
      "userId": "10851108113379732662"
     },
     "user_tz": -60
    },
    "id": "YKhuCNNwA1Sy",
    "outputId": "35392c3e-7cf4-4305-c489-8fd504ed30fc"
   },
   "outputs": [
    {
     "name": "stdout",
     "output_type": "stream",
     "text": [
      "[\n",
      "    {\n",
      "        \"id\": 1,\n",
      "        \"name\": \"Alice\",\n",
      "        \"age\": 22,\n",
      "        \"grades\": {\n",
      "            \"math\": 95,\n",
      "            \"science\": 85\n",
      "        },\n",
      "        \"enrolled\": true,\n",
      "        \"average\": 90.0\n",
      "    },\n",
      "    {\n",
      "        \"id\": 3,\n",
      "        \"name\": \"Charlie\",\n",
      "        \"age\": 23,\n",
      "        \"grades\": {\n",
      "            \"math\": 88,\n",
      "            \"science\": 92\n",
      "        },\n",
      "        \"enrolled\": true,\n",
      "        \"average\": 90.0\n",
      "    },\n",
      "    {\n",
      "        \"id\": 4,\n",
      "        \"name\": \"Diana\",\n",
      "        \"age\": 21,\n",
      "        \"grades\": {\n",
      "            \"math\": 82,\n",
      "            \"science\": 78\n",
      "        },\n",
      "        \"enrolled\": true,\n",
      "        \"average\": 80.0\n",
      "    }\n",
      "]\n"
     ]
    }
   ],
   "source": [
    "# Compute Average Grade for Each Student คือการคำนวณเกรดเฉลี่ยของนักเรียนแต่ละคน\n",
    "def compute_average_grades(data: List[Dict[str, Any]]) -> List[Dict[str, Any]]: # ฟังก์ชันนี้จะคำนวณเกรดเฉลี่ยของนักเรียนแต่ละคน\n",
    "    for student in data: # วนลูปผ่านนักเรียนแต่ละคน\n",
    "        grades = student.get('grades', {}) # ดึงเกรดของนักเรียน\n",
    "        avg = sum(grades.values()) / len(grades) if grades else 0 # คำนวณเกรดเฉลี่ย ถ้าไม่มีเกรดจะคืนค่า 0\n",
    "        student['average'] = round(avg, 2) # เก็บเกรดเฉลี่ยในคีย์ 'average' และปัดเศษเป็น 2 ตำแหน่งทศนิยม\n",
    "    return data # คืนค่ารายชื่อนักเรียนที่มีเกรดเฉลี่ย\n",
    "print(json.dumps(compute_average_grades(loaded), indent=4)) # แสดงผลเกรดเฉลี่ยของนักเรียนในรูปแบบ JSON ที่อ่านง่าย"
   ]
  },
  {
   "cell_type": "markdown",
   "id": "rN9JvmhJLv1T",
   "metadata": {
    "id": "rN9JvmhJLv1T"
   },
   "source": [
    "line 1 >> def compute_average_grades(data: List[Dict[str, Any]]) -> List[Dict[str, Any]]:\n",
    "  - นิยามฟังก์ชันเพื่อคำนวณคะแนนเฉลี่ยของแต่ละนักเรียนในข้อมูล data โดยเพิ่มคีย์ใหม่ชื่อ 'average' ให้กับ dictionary ของนักเรียนแต่ละคน\n",
    "\n",
    "line 3 >> grades = student.get('grades', {})\n",
    "  - ดึงข้อมูลเกรดจาก key 'grades' หากไม่มีจะได้ dictionary ว่าง ({})\n",
    "\n",
    "line 4 >> avg = sum(grades.values()) / len(grades) if grades else 0\n",
    "  - คำนวณค่าเฉลี่ยโดยใช้ผลรวมของคะแนนทั้งหมดหารด้วยจำนวนวิชา\n",
    "หากไม่มีข้อมูลเกรด จะให้ค่าเฉลี่ยเป็น 0\n",
    "\n",
    "line 5 >> student['average'] = round(avg, 2)\n",
    "  - บันทึกค่าเฉลี่ยไว้ใน key 'average' โดยปัดทศนิยม 2 ตำแหน่ง\n",
    "\n",
    "line 6 >> return data\n",
    "  - ส่งคืนข้อมูลนักเรียนทั้งหมดที่มีการเพิ่มค่าเฉลี่ยแล้ว\n",
    "\n",
    "line 7 >> print(json.dumps(compute_average_grades(loaded), indent=4))\n",
    "  - แสดงผลข้อมูลนักเรียนพร้อมค่าเฉลี่ยในรูปแบบ JSON ที่จัดรูปแบบสวยงาม"
   ]
  },
  {
   "cell_type": "code",
   "execution_count": 19,
   "id": "GXE0pulhA0VY",
   "metadata": {
    "colab": {
     "base_uri": "https://localhost:8080/"
    },
    "executionInfo": {
     "elapsed": 47,
     "status": "ok",
     "timestamp": 1752330897950,
     "user": {
      "displayName": "Kunjira Kingphai",
      "userId": "10851108113379732662"
     },
     "user_tz": -60
    },
    "id": "GXE0pulhA0VY",
    "outputId": "0b1d67d9-4888-4591-cae7-1b34fb1bb84d"
   },
   "outputs": [
    {
     "name": "stdout",
     "output_type": "stream",
     "text": [
      "[{'id': 1, 'name': 'Alice', 'age': 22, 'grades': {'math': 95, 'science': 85}, 'enrolled': True, 'average': 90.0}, {'id': 3, 'name': 'Charlie', 'age': 23, 'grades': {'math': 88, 'science': 92}, 'enrolled': True, 'average': 90.0}]\n"
     ]
    }
   ],
   "source": [
    "# Filter Students by Grade Threshold คือการกรองนักเรียนที่มีเกรดในวิชาที่กำหนดมากกว่าหรือเท่ากับเกรดขั้นต่ำ\n",
    "def filter_students_by_grade(data: List[Dict[str, Any]], subject: str, min_grade: int) -> List[Dict[str, Any]]: # ฟังก์ชันนี้จะกรองนักเรียนที่มีเกรดในวิชาที่กำหนดมากกว่าหรือเท่ากับเกรดขั้นต่ำ\n",
    "    return [s for s in data # วนลูปผ่านนักเรียนแต่ละคน\n",
    "            if s['grades'].get(subject, 0) >= min_grade] # ถ้าเกรดในวิชาที่กำหนดมากกว่าหรือเท่ากับเกรดขั้นต่ำจะเก็บนักเรียนคนนั้นไว้\n",
    "print(filter_students_by_grade(loaded, \"math\", 85)) # แสดงรายชื่อนักเรียนที่มีเกรดในวิชา \"math\" มากกว่าหรือเท่ากับ 85"
   ]
  },
  {
   "cell_type": "markdown",
   "id": "9SG2pl_cL2fe",
   "metadata": {
    "id": "9SG2pl_cL2fe"
   },
   "source": [
    "line 1 >> def filter_students_by_grade(data: List[Dict[str, Any]], subject: str, min_grade: int) -> List[Dict[str, Any]]:\n",
    "  - นิยามฟังก์ชันสำหรับกรองนักเรียนที่ได้คะแนนในวิชา subject มากกว่าหรือเท่ากับ min_grade\n",
    "\n",
    "line 2 >> [s for s in data if s['grades'].get(subject, 0) >= min_grade]\n",
    "  - ใช้ list comprehension เพื่อเลือกเฉพาะนักเรียนที่ผ่านเกณฑ์คะแนน\n",
    "  - s['grades'].get(subject, 0)\n",
    "ใช้ .get() เพื่อดึงคะแนนของวิชานั้น หากไม่มีจะใช้ค่าเริ่มต้นเป็น 0"
   ]
  },
  {
   "cell_type": "code",
   "execution_count": 20,
   "id": "5arwosllAyjC",
   "metadata": {
    "colab": {
     "base_uri": "https://localhost:8080/"
    },
    "executionInfo": {
     "elapsed": 19,
     "status": "ok",
     "timestamp": 1752330902631,
     "user": {
      "displayName": "Kunjira Kingphai",
      "userId": "10851108113379732662"
     },
     "user_tz": -60
    },
    "id": "5arwosllAyjC",
    "outputId": "1ec58fe8-cab7-43dd-857b-3cae2ca3ee74"
   },
   "outputs": [
    {
     "name": "stdout",
     "output_type": "stream",
     "text": [
      "Next available ID: 5\n"
     ]
    }
   ],
   "source": [
    "# Automatically Assign Next ID คือการกำหนด ID ถัดไปโดยอัตโนมัติ\n",
    "def get_next_id(data: List[Dict[str, Any]]) -> int: # ฟังก์ชันนี้จะคืนค่า ID ถัดไปที่สามารถใช้ได้\n",
    "    return max(s['id'] for s in data) + 1 if data else 1 # คืนค่า ID ถัดไปที่สามารถใช้ได้ ถ้าไม่มีนักเรียนจะคืนค่า 1\n",
    "\n",
    "new_id = get_next_id(loaded) # กำหนด ID ถัดไปที่สามารถใช้ได้\n",
    "print(f\"Next available ID: {new_id}\") # Print the next available ID"
   ]
  },
  {
   "cell_type": "markdown",
   "id": "Qq2-03UwL8MA",
   "metadata": {
    "id": "Qq2-03UwL8MA"
   },
   "source": [
    "line 1 >> def get_next_id(data: List[Dict[str, Any]]) -> int:\n",
    "  - สร้างฟังก์ชันเพื่อคำนวณหมายเลขประจำตัว (id) ถัดไปจากข้อมูลที่มีอยู่\n",
    "line 2 >> max(s['id'] for s in data) + 1\n",
    "  - หาค่า id สูงสุดในข้อมูลที่มี แล้วเพิ่ม 1 เพื่อให้เป็น ID ถัดไป\n",
    "เหมาะสำหรับการเพิ่มนักเรียนใหม่โดยไม่ต้องกรอก ID เอง\n",
    "  - if data else 1\n",
    "หากข้อมูลยังว่าง (data เป็น []) จะคืนค่าเริ่มต้นเป็น 1\n",
    "\n",
    "line 3 >> new_id = get_next_id(loaded)\n",
    "  - เรียกใช้งานฟังก์ชันเพื่อสร้าง ID ถัดไปจากข้อมูลที่อยู่ในตัวแปร loaded\n",
    "\n",
    "line 4 >> print(f\"Next available ID: {new_id}\")\n",
    "  - แสดงหมายเลข ID ถัดไปที่พร้อมใช้งาน"
   ]
  },
  {
   "cell_type": "code",
   "execution_count": null,
   "id": "LUhXixC2D6FK",
   "metadata": {
    "id": "LUhXixC2D6FK"
   },
   "outputs": [],
   "source": []
  }
 ],
 "metadata": {
  "colab": {
   "provenance": []
  },
  "kernelspec": {
   "display_name": "Python 3",
   "name": "python3"
  },
  "language_info": {
   "codemirror_mode": {
    "name": "ipython",
    "version": 3
   },
   "file_extension": ".py",
   "mimetype": "text/x-python",
   "name": "python",
   "nbconvert_exporter": "python",
   "pygments_lexer": "ipython3",
   "version": "3.11.9"
  }
 },
 "nbformat": 4,
 "nbformat_minor": 5
}
